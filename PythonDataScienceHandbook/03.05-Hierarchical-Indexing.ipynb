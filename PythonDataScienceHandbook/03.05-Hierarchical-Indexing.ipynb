{
  "cells": [
    {
      "cell_type": "markdown",
      "metadata": {
        "id": "IF8UsgzFozoY"
      },
      "source": [
        "# Hierarchical Indexing\n",
        "This notebook was adapted from [Python Data Science Handbook](https://jakevdp.github.io/PythonDataScienceHandbook/) by Jake VanderPlas.\n",
        "\n",
        "-----"
      ]
    },
    {
      "cell_type": "markdown",
      "metadata": {
        "deletable": true,
        "editable": true,
        "id": "UDq69KH3ozoc"
      },
      "source": [
        "Up to this point we've been focused primarily on one-dimensional and two-dimensional data, stored in Pandas ``Series`` and ``DataFrame`` objects, respectively.\n",
        "Often it is useful to go beyond this and store higher-dimensional data–that is, data indexed by more than one or two keys. In this way, higher-dimensional data can be compactly represented within the familiar one-dimensional ``Series`` and two-dimensional ``DataFrame`` objects.\n",
        "\n",
        "In this section, we'll explore the direct creation of ``MultiIndex`` objects, considerations when indexing, slicing, and computing statistics across multiply indexed data, and useful routines for converting between simple and hierarchically indexed representations of your data.\n",
        "\n",
        "We begin with the standard imports:"
      ]
    },
    {
      "cell_type": "code",
      "execution_count": null,
      "metadata": {
        "deletable": true,
        "editable": true,
        "id": "i2_Cf1iLozod"
      },
      "outputs": [],
      "source": [
        "import pandas as pd\n",
        "import numpy as np"
      ]
    },
    {
      "cell_type": "markdown",
      "metadata": {
        "deletable": true,
        "editable": true,
        "id": "v8psMIk0ozof"
      },
      "source": [
        "## A Multiply Indexed Series\n",
        "\n",
        "Let's start by considering how we might represent two-dimensional data within a one-dimensional ``Series``.\n",
        "For concreteness, we will consider a series of data where each point has a character and numerical key."
      ]
    },
    {
      "cell_type": "markdown",
      "metadata": {
        "deletable": true,
        "editable": true,
        "id": "QUlVQuWfozof"
      },
      "source": [
        "### The bad way\n",
        "\n",
        "Suppose you would like to track data about states from two different years.\n",
        "Using the Pandas tools we've already covered, you might be tempted to simply use Python tuples as keys:"
      ]
    },
    {
      "cell_type": "code",
      "execution_count": null,
      "metadata": {
        "deletable": true,
        "editable": true,
        "jupyter": {
          "outputs_hidden": false
        },
        "id": "jundvwV_ozog"
      },
      "outputs": [],
      "source": [
        "index = [('California', 2000), ('California', 2010),\n",
        "         ('New York', 2000), ('New York', 2010),\n",
        "         ('Texas', 2000), ('Texas', 2010)]\n",
        "populations = [33871648, 37253956,\n",
        "               18976457, 19378102,\n",
        "               20851820, 25145561]\n",
        "pop = pd.Series(populations, index=index)\n",
        "pop"
      ]
    },
    {
      "cell_type": "markdown",
      "metadata": {
        "deletable": true,
        "editable": true,
        "id": "Zbt2HfWqozog"
      },
      "source": [
        "With this indexing scheme, you can straightforwardly index or slice the series based on this multiple index:"
      ]
    },
    {
      "cell_type": "code",
      "execution_count": null,
      "metadata": {
        "deletable": true,
        "editable": true,
        "jupyter": {
          "outputs_hidden": false
        },
        "id": "L3wJuTAZozoh"
      },
      "outputs": [],
      "source": [
        "pop[('California', 2010):('Texas', 2000)]"
      ]
    },
    {
      "cell_type": "markdown",
      "metadata": {
        "deletable": true,
        "editable": true,
        "id": "1XPqe2U0ozoh"
      },
      "source": [
        "But the convenience ends there. For example, if you need to select all values from 2010, you'll need to do some messy (and potentially slow) munging to make it happen:"
      ]
    },
    {
      "cell_type": "code",
      "execution_count": null,
      "metadata": {
        "deletable": true,
        "editable": true,
        "jupyter": {
          "outputs_hidden": false
        },
        "id": "kvFSM8pvozoi"
      },
      "outputs": [],
      "source": [
        "pop[[i for i in pop.index if i[1] == 2010]]"
      ]
    },
    {
      "cell_type": "markdown",
      "metadata": {
        "deletable": true,
        "editable": true,
        "id": "QpQaKvMJozoi"
      },
      "source": [
        "This produces the desired result, but is not as clean (or as efficient for large datasets) as the slicing syntax we've grown to love in Pandas."
      ]
    },
    {
      "cell_type": "markdown",
      "metadata": {
        "deletable": true,
        "editable": true,
        "id": "WKfsY0xRozoi"
      },
      "source": [
        "### The Better Way: Pandas MultiIndex\n",
        "Fortunately, Pandas provides a better way.\n",
        "Our tuple-based indexing is essentially a rudimentary multi-index, and the Pandas ``MultiIndex`` type gives us the type of operations we wish to have.\n",
        "We can create a multi-index from the tuples as follows:"
      ]
    },
    {
      "cell_type": "code",
      "execution_count": null,
      "metadata": {
        "deletable": true,
        "editable": true,
        "jupyter": {
          "outputs_hidden": false
        },
        "id": "zV8udNxlozoi"
      },
      "outputs": [],
      "source": [
        "index = pd.MultiIndex.from_tuples(index)\n",
        "index"
      ]
    },
    {
      "cell_type": "markdown",
      "metadata": {
        "deletable": true,
        "editable": true,
        "id": "ihwm-fE4ozoj"
      },
      "source": [
        "Notice that the ``MultiIndex`` contains multiple *levels* of indexing–in this case, the state names and the years, as well as multiple *labels* for each data point which encode these levels.\n",
        "\n",
        "If we re-index our series with this ``MultiIndex``, we see the hierarchical representation of the data:"
      ]
    },
    {
      "cell_type": "code",
      "execution_count": null,
      "metadata": {
        "deletable": true,
        "editable": true,
        "jupyter": {
          "outputs_hidden": false
        },
        "id": "9Yt019sVozoj"
      },
      "outputs": [],
      "source": [
        "pop = pop.reindex(index)\n",
        "pop"
      ]
    },
    {
      "cell_type": "markdown",
      "metadata": {
        "deletable": true,
        "editable": true,
        "id": "UIO0fhNWozoj"
      },
      "source": [
        "Here the first two columns of the ``Series`` representation show the multiple index values, while the third column shows the data.\n",
        "Notice that some entries are missing in the first column: in this multi-index representation, any blank entry indicates the same value as the line above it."
      ]
    },
    {
      "cell_type": "markdown",
      "metadata": {
        "deletable": true,
        "editable": true,
        "id": "ISsg5vl2ozoj"
      },
      "source": [
        "Now to access all data for which the second index is 2010, we can simply use the Pandas slicing notation:"
      ]
    },
    {
      "cell_type": "code",
      "execution_count": null,
      "metadata": {
        "deletable": true,
        "editable": true,
        "jupyter": {
          "outputs_hidden": false
        },
        "id": "IFxpclT0ozoj"
      },
      "outputs": [],
      "source": [
        "pop.loc[:, 2010]"
      ]
    },
    {
      "cell_type": "markdown",
      "metadata": {
        "deletable": true,
        "editable": true,
        "id": "Cglx9qqvozoj"
      },
      "source": [
        "The result is a singly indexed array with just the keys we're interested in.\n",
        "This syntax is much more convenient (and the operation is much more efficient!) than the home-spun tuple-based multi-indexing solution that we started with.\n",
        "We'll now further discuss this sort of indexing operation on hieararchically indexed data."
      ]
    },
    {
      "cell_type": "markdown",
      "metadata": {
        "deletable": true,
        "editable": true,
        "id": "ukhEQc5Qozok"
      },
      "source": [
        "### MultiIndex as extra dimension\n",
        "\n",
        "You might notice something else here: we could easily have stored the same data using a simple ``DataFrame`` with index and column labels.\n",
        "In fact, Pandas is built with this equivalence in mind. The ``unstack()`` method will quickly convert a multiply indexed ``Series`` into a conventionally indexed ``DataFrame``:"
      ]
    },
    {
      "cell_type": "code",
      "execution_count": null,
      "metadata": {
        "deletable": true,
        "editable": true,
        "jupyter": {
          "outputs_hidden": false
        },
        "id": "sMc5i13jozok"
      },
      "outputs": [],
      "source": [
        "pop_df = pop.unstack()\n",
        "pop_df"
      ]
    },
    {
      "cell_type": "markdown",
      "metadata": {
        "deletable": true,
        "editable": true,
        "id": "LUxE0AoFozok"
      },
      "source": [
        "Naturally, the ``stack()`` method provides the opposite operation:"
      ]
    },
    {
      "cell_type": "code",
      "execution_count": null,
      "metadata": {
        "deletable": true,
        "editable": true,
        "jupyter": {
          "outputs_hidden": false
        },
        "id": "N7K-O8iLozok"
      },
      "outputs": [],
      "source": [
        "pop_df.stack()"
      ]
    },
    {
      "cell_type": "markdown",
      "metadata": {
        "deletable": true,
        "editable": true,
        "id": "XJHBKeUKozok"
      },
      "source": [
        "Seeing this, you might wonder why would we would bother with hierarchical indexing at all.\n",
        "The reason is simple: just as we were able to use multi-indexing to represent two-dimensional data within a one-dimensional ``Series``, we can also use it to represent data of three or more dimensions in a ``Series`` or ``DataFrame``.\n",
        "Each extra level in a multi-index represents an extra dimension of data; taking advantage of this property gives us much more flexibility in the types of data we can represent. Concretely, we might want to add another column of demographic data for each state at each year (say, population under 18) ; with a ``MultiIndex`` this is as easy as adding another column to the ``DataFrame``:"
      ]
    },
    {
      "cell_type": "code",
      "execution_count": null,
      "metadata": {
        "deletable": true,
        "editable": true,
        "jupyter": {
          "outputs_hidden": false
        },
        "id": "v9BDhDlIozok"
      },
      "outputs": [],
      "source": [
        "pop_df = pd.DataFrame({'total': pop,\n",
        "                       'under18': [9267089, 9284094,\n",
        "                                   4687374, 4318033,\n",
        "                                   5906301, 6879014]})\n",
        "pop_df"
      ]
    },
    {
      "cell_type": "markdown",
      "metadata": {
        "deletable": true,
        "editable": true,
        "id": "vv9GA2Jzozok"
      },
      "source": [
        "In addition, all the functions and other functionality discussed in [Operating on Data in Pandas](03.03-Operations-in-Pandas.ipynb) work with hierarchical indices as well.\n",
        "Here we compute the fraction of people under 18 by year, given the above data:"
      ]
    },
    {
      "cell_type": "code",
      "execution_count": null,
      "metadata": {
        "id": "FG2ZL1X1ozol"
      },
      "outputs": [],
      "source": [
        "(pop_df[\"under18\"]/ pop_df['total']).unstack()"
      ]
    },
    {
      "cell_type": "markdown",
      "metadata": {
        "deletable": true,
        "editable": true,
        "id": "jmCcab05ozol"
      },
      "source": [
        "This allows us to easily and quickly manipulate and explore even high-dimensional data."
      ]
    },
    {
      "cell_type": "markdown",
      "metadata": {
        "deletable": true,
        "editable": true,
        "id": "hu-j_dhAozol"
      },
      "source": [
        "## Methods of MultiIndex Creation\n",
        "\n",
        "The most straightforward way to construct a multiply indexed ``Series`` or ``DataFrame`` is to simply pass a list of two or more index arrays to the constructor. For example:"
      ]
    },
    {
      "cell_type": "code",
      "execution_count": null,
      "metadata": {
        "deletable": true,
        "editable": true,
        "jupyter": {
          "outputs_hidden": false
        },
        "id": "oqDd_w64ozol"
      },
      "outputs": [],
      "source": [
        "df = pd.DataFrame(np.random.rand(4, 2),\n",
        "                  index=[['a', 'a', 'b', 'b'], [1, 2, 1, 2]],\n",
        "                  columns=['data1', 'data2'])\n",
        "\n",
        "df"
      ]
    },
    {
      "cell_type": "markdown",
      "metadata": {
        "deletable": true,
        "editable": true,
        "id": "8fitjCVGozol"
      },
      "source": [
        "The work of creating the ``MultiIndex`` is done in the background.\n",
        "\n",
        "Similarly, if you pass a dictionary with appropriate tuples as keys, Pandas will automatically recognize this and use a ``MultiIndex`` by default:"
      ]
    },
    {
      "cell_type": "code",
      "execution_count": null,
      "metadata": {
        "deletable": true,
        "editable": true,
        "jupyter": {
          "outputs_hidden": false
        },
        "id": "N9t7Y5bTozol"
      },
      "outputs": [],
      "source": [
        "data = {('California', 2000): 33871648,\n",
        "        ('California', 2010): 37253956,\n",
        "        ('Texas', 2000): 20851820,\n",
        "        ('Texas', 2010): 25145561,\n",
        "        ('New York', 2000): 18976457,\n",
        "        ('New York', 2010): 19378102}\n",
        "pd.Series(data)"
      ]
    },
    {
      "cell_type": "markdown",
      "metadata": {
        "deletable": true,
        "editable": true,
        "id": "rvjgTOKnozol"
      },
      "source": [
        "Nevertheless, it is sometimes useful to explicitly create a ``MultiIndex``; we'll see a couple of these methods here."
      ]
    },
    {
      "cell_type": "markdown",
      "metadata": {
        "deletable": true,
        "editable": true,
        "id": "PzigtZRgozol"
      },
      "source": [
        "### Explicit MultiIndex constructors\n",
        "\n",
        "For more flexibility in how the index is constructed, you can instead use the class method constructors available in the ``pd.MultiIndex``.\n",
        "For example, as we did before, you can construct the ``MultiIndex`` from a simple list of arrays giving the index values within each level:"
      ]
    },
    {
      "cell_type": "code",
      "execution_count": null,
      "metadata": {
        "deletable": true,
        "editable": true,
        "jupyter": {
          "outputs_hidden": false
        },
        "id": "I99zQYChozom"
      },
      "outputs": [],
      "source": [
        "pd.MultiIndex.from_arrays([['a', 'a', 'b', 'b'], [1, 2, 1, 2]])"
      ]
    },
    {
      "cell_type": "markdown",
      "metadata": {
        "deletable": true,
        "editable": true,
        "id": "OLucO0BQozom"
      },
      "source": [
        "You can construct it from a list of tuples giving the multiple index values of each point:"
      ]
    },
    {
      "cell_type": "code",
      "execution_count": null,
      "metadata": {
        "deletable": true,
        "editable": true,
        "jupyter": {
          "outputs_hidden": false
        },
        "id": "vi1Vi6bbozom"
      },
      "outputs": [],
      "source": [
        "pd.MultiIndex.from_tuples([('a', 1), ('a', 2), ('b', 1), ('b', 2)])"
      ]
    },
    {
      "cell_type": "markdown",
      "metadata": {
        "deletable": true,
        "editable": true,
        "id": "lgFZCHaZozoq"
      },
      "source": [
        "Any of these objects can be passed as the ``index`` argument when creating a ``Series`` or ``Dataframe``, or be passed to the ``reindex`` method of an existing ``Series`` or ``DataFrame``."
      ]
    },
    {
      "cell_type": "markdown",
      "metadata": {
        "deletable": true,
        "editable": true,
        "id": "7Zb--pJTozoq"
      },
      "source": [
        "### MultiIndex level names\n",
        "\n",
        "Sometimes it is convenient to name the levels of the ``MultiIndex``.\n",
        "This can be accomplished by passing the ``names`` argument to any of the above ``MultiIndex`` constructors, or by setting the ``names`` attribute of the index after the fact:"
      ]
    },
    {
      "cell_type": "code",
      "execution_count": null,
      "metadata": {
        "deletable": true,
        "editable": true,
        "jupyter": {
          "outputs_hidden": false
        },
        "id": "9SkbvQ81ozoq"
      },
      "outputs": [],
      "source": [
        "pop.index.names = ['state', 'year']\n",
        "pop"
      ]
    },
    {
      "cell_type": "markdown",
      "metadata": {
        "deletable": true,
        "editable": true,
        "id": "cdAf5PG3ozoq"
      },
      "source": [
        "With more involved datasets, this can be a useful way to keep track of the meaning of various index values."
      ]
    },
    {
      "cell_type": "markdown",
      "metadata": {
        "deletable": true,
        "editable": true,
        "id": "n6tuxJWmozoq"
      },
      "source": [
        "### MultiIndex for columns\n",
        "\n",
        "In a ``DataFrame``, the rows and columns are completely symmetric, and just as the rows can have multiple levels of indices, the columns can have multiple levels as well.\n",
        "Consider the following, which is a mock-up of some (somewhat realistic) medical data:"
      ]
    },
    {
      "cell_type": "code",
      "execution_count": null,
      "metadata": {
        "deletable": true,
        "editable": true,
        "jupyter": {
          "outputs_hidden": false
        },
        "id": "HI_ONnfeozoq"
      },
      "outputs": [],
      "source": [
        "# hierarchical indices and columns\n",
        "index = pd.MultiIndex.from_product([[2013, 2014], [1, 2]],\n",
        "                                   names=['year', 'visit'])\n",
        "columns = pd.MultiIndex.from_product([['Bob', 'Guido', 'Sue'], ['HR', 'Temp']],\n",
        "                                     names=['subject', 'type'])\n",
        "\n",
        "# mock some data\n",
        "data = np.round(np.random.randn(4, 6), 1)\n",
        "data[:, ::2] *= 10\n",
        "data += 37\n",
        "\n",
        "# create the DataFrame\n",
        "health_data = pd.DataFrame(data, index=index, columns=columns)\n",
        "health_data"
      ]
    },
    {
      "cell_type": "markdown",
      "metadata": {
        "deletable": true,
        "editable": true,
        "id": "Pb_ifUVmozoq"
      },
      "source": [
        "Here we see where the multi-indexing for both rows and columns can come in *very* handy.\n",
        "This is fundamentally four-dimensional data, where the dimensions are the subject, the measurement type, the year, and the visit number.\n",
        "With this in place we can, for example, index the top-level column by the person's name and get a full ``DataFrame`` containing just that person's information:"
      ]
    },
    {
      "cell_type": "code",
      "execution_count": null,
      "metadata": {
        "deletable": true,
        "editable": true,
        "jupyter": {
          "outputs_hidden": false
        },
        "id": "i4yjt6XGozor"
      },
      "outputs": [],
      "source": [
        "health_data['Guido']"
      ]
    },
    {
      "cell_type": "markdown",
      "metadata": {
        "deletable": true,
        "editable": true,
        "id": "0PNmIMXLozor"
      },
      "source": [
        "For complicated records containing multiple labeled measurements across multiple times for many subjects (people, countries, cities, etc.) use of hierarchical rows and columns can be extremely convenient!"
      ]
    },
    {
      "cell_type": "markdown",
      "metadata": {
        "deletable": true,
        "editable": true,
        "id": "5qkFQhiOozor"
      },
      "source": [
        "## Indexing and Slicing a MultiIndex\n",
        "\n",
        "Indexing and slicing on a ``MultiIndex`` is designed to be intuitive, and it helps if you think about the indices as added dimensions.\n",
        "We'll first look at indexing multiply indexed ``Series``, and then multiply-indexed ``DataFrame``s."
      ]
    },
    {
      "cell_type": "markdown",
      "metadata": {
        "deletable": true,
        "editable": true,
        "id": "_bURTL6Kozor"
      },
      "source": [
        "### Multiply indexed Series\n",
        "\n",
        "Consider the multiply indexed ``Series`` of state populations we saw earlier:"
      ]
    },
    {
      "cell_type": "code",
      "execution_count": null,
      "metadata": {
        "deletable": true,
        "editable": true,
        "jupyter": {
          "outputs_hidden": false
        },
        "id": "KBOa2jqfozor"
      },
      "outputs": [],
      "source": [
        "pop"
      ]
    },
    {
      "cell_type": "markdown",
      "metadata": {
        "deletable": true,
        "editable": true,
        "id": "DkgWq8zwozor"
      },
      "source": [
        "We can access single elements by indexing with multiple terms:"
      ]
    },
    {
      "cell_type": "code",
      "execution_count": null,
      "metadata": {
        "deletable": true,
        "editable": true,
        "jupyter": {
          "outputs_hidden": false
        },
        "id": "6xEmci6nozor"
      },
      "outputs": [],
      "source": [
        "pop['California', 2000]"
      ]
    },
    {
      "cell_type": "markdown",
      "metadata": {
        "deletable": true,
        "editable": true,
        "id": "oJre4_eUozos"
      },
      "source": [
        "The ``MultiIndex`` also supports *partial indexing*, or indexing just one of the levels in the index.\n",
        "The result is another ``Series``, with the lower-level indices maintained:"
      ]
    },
    {
      "cell_type": "code",
      "execution_count": null,
      "metadata": {
        "deletable": true,
        "editable": true,
        "jupyter": {
          "outputs_hidden": false
        },
        "id": "lUFusqddozos"
      },
      "outputs": [],
      "source": [
        "pop['California']"
      ]
    },
    {
      "cell_type": "markdown",
      "metadata": {
        "deletable": true,
        "editable": true,
        "id": "zZkG2kdqozos"
      },
      "source": [
        "Partial slicing is available as well, as long as the ``MultiIndex`` is sorted (see discussion in [Sorted and Unsorted Indices](#Sorted-and-unsorted-indices)):"
      ]
    },
    {
      "cell_type": "code",
      "execution_count": null,
      "metadata": {
        "deletable": true,
        "editable": true,
        "jupyter": {
          "outputs_hidden": false
        },
        "id": "xH6VnHPQozos"
      },
      "outputs": [],
      "source": [
        "pop.loc['California':'New York']"
      ]
    },
    {
      "cell_type": "markdown",
      "metadata": {
        "deletable": true,
        "editable": true,
        "id": "yMB_5Ug1ozos"
      },
      "source": [
        "With sorted indices, partial indexing can be performed on lower levels by passing an empty slice in the first index:"
      ]
    },
    {
      "cell_type": "code",
      "execution_count": null,
      "metadata": {
        "deletable": true,
        "editable": true,
        "jupyter": {
          "outputs_hidden": false
        },
        "id": "sI7MBVdOozos"
      },
      "outputs": [],
      "source": [
        "pop[:, 2000]"
      ]
    },
    {
      "cell_type": "markdown",
      "metadata": {
        "deletable": true,
        "editable": true,
        "id": "piDsHmG3ozot"
      },
      "source": [
        "Other types of indexing and selection (discussed in [Data Indexing and Selection](03.02-Data-Indexing-and-Selection.ipynb)) work as well; for example, selection based on Boolean masks:"
      ]
    },
    {
      "cell_type": "code",
      "execution_count": null,
      "metadata": {
        "deletable": true,
        "editable": true,
        "jupyter": {
          "outputs_hidden": false
        },
        "id": "B1vBsrUwozot"
      },
      "outputs": [],
      "source": [
        "pop.loc[pop > 22000000]"
      ]
    },
    {
      "cell_type": "markdown",
      "metadata": {
        "deletable": true,
        "editable": true,
        "id": "elCKcJj5ozot"
      },
      "source": [
        "Selection based on fancy indexing also works:"
      ]
    },
    {
      "cell_type": "code",
      "execution_count": null,
      "metadata": {
        "deletable": true,
        "editable": true,
        "jupyter": {
          "outputs_hidden": false
        },
        "id": "Jaqo07PJozot"
      },
      "outputs": [],
      "source": [
        "pop[['California', 'Texas']]"
      ]
    },
    {
      "cell_type": "markdown",
      "metadata": {
        "deletable": true,
        "editable": true,
        "id": "2bP5dSacozot"
      },
      "source": [
        "### Multiply indexed DataFrames\n",
        "\n",
        "A multiply indexed ``DataFrame`` behaves in a similar manner.\n",
        "Consider our toy medical ``DataFrame`` from before:"
      ]
    },
    {
      "cell_type": "code",
      "execution_count": null,
      "metadata": {
        "deletable": true,
        "editable": true,
        "jupyter": {
          "outputs_hidden": false
        },
        "id": "dHoRJH_Xozot"
      },
      "outputs": [],
      "source": [
        "health_data"
      ]
    },
    {
      "cell_type": "markdown",
      "metadata": {
        "deletable": true,
        "editable": true,
        "id": "sWBn-h-mozot"
      },
      "source": [
        "Remember that columns are primary in a ``DataFrame``, and the syntax used for multiply indexed ``Series`` applies to the columns.\n",
        "For example, we can recover Guido's heart rate data with a simple operation:"
      ]
    },
    {
      "cell_type": "code",
      "execution_count": null,
      "metadata": {
        "deletable": true,
        "editable": true,
        "jupyter": {
          "outputs_hidden": false
        },
        "id": "7eDuFDxOozot"
      },
      "outputs": [],
      "source": [
        "health_data[('Guido', 'HR')]"
      ]
    },
    {
      "cell_type": "markdown",
      "metadata": {
        "deletable": true,
        "editable": true,
        "id": "BqwJoPY9ozot"
      },
      "source": [
        "Also, as with the single-index case, we can use the ``loc``, ``iloc``, and ``ix`` indexers introduced in [Data Indexing and Selection](03.02-Data-Indexing-and-Selection.ipynb). For example:"
      ]
    },
    {
      "cell_type": "code",
      "execution_count": null,
      "metadata": {
        "deletable": true,
        "editable": true,
        "jupyter": {
          "outputs_hidden": false
        },
        "id": "67o1we-9ozou"
      },
      "outputs": [],
      "source": [
        "health_data.iloc[:2, :2]"
      ]
    },
    {
      "cell_type": "markdown",
      "metadata": {
        "deletable": true,
        "editable": true,
        "id": "DqXn9SCPozou"
      },
      "source": [
        "These indexers provide an array-like view of the underlying two-dimensional data, but each individual index in ``loc`` or ``iloc`` can be passed a tuple of multiple indices. For example:"
      ]
    },
    {
      "cell_type": "code",
      "execution_count": null,
      "metadata": {
        "deletable": true,
        "editable": true,
        "jupyter": {
          "outputs_hidden": false
        },
        "id": "hlhNJokiozou"
      },
      "outputs": [],
      "source": [
        "health_data.loc[:, ('Bob', 'HR')]"
      ]
    },
    {
      "cell_type": "markdown",
      "metadata": {
        "deletable": true,
        "editable": true,
        "id": "NZYCvm4fozou"
      },
      "source": [
        "Working with slices within these index tuples is not especially convenient; trying to create a slice within a tuple will lead to a syntax error:"
      ]
    },
    {
      "cell_type": "code",
      "execution_count": null,
      "metadata": {
        "deletable": true,
        "editable": true,
        "jupyter": {
          "outputs_hidden": false
        },
        "id": "kyFAaeDBozou"
      },
      "outputs": [],
      "source": [
        "health_data.loc[(:, 1), (:, 'HR')]"
      ]
    },
    {
      "cell_type": "markdown",
      "metadata": {
        "deletable": true,
        "editable": true,
        "id": "zKKxI8Qcozov"
      },
      "source": [
        "You could get around this by building the desired slice explicitly using Python's built-in ``slice()`` function, but a better way in this context is to use an ``IndexSlice`` object, which Pandas provides for precisely this situation.\n",
        "For example:"
      ]
    },
    {
      "cell_type": "code",
      "execution_count": null,
      "metadata": {
        "deletable": true,
        "editable": true,
        "jupyter": {
          "outputs_hidden": false
        },
        "id": "jWfYh9UFozov"
      },
      "outputs": [],
      "source": [
        "idx = pd.IndexSlice\n",
        "health_data.loc[idx[:, 1], idx[:, 'HR']]"
      ]
    },
    {
      "cell_type": "markdown",
      "metadata": {
        "deletable": true,
        "editable": true,
        "id": "YDqCOfLuozov"
      },
      "source": [
        "There are so many ways to interact with data in multiply indexed ``Series`` and ``DataFrame``s, and the best way to become familiar with them is to try them out!"
      ]
    },
    {
      "cell_type": "markdown",
      "metadata": {
        "deletable": true,
        "editable": true,
        "id": "wUTd4DNqozov"
      },
      "source": [
        "## Rearranging Multi-Indices\n",
        "\n",
        "One of the keys to working with multiply indexed data is knowing how to effectively transform the data.\n",
        "There are a number of operations that will preserve all the information in the dataset, but rearrange it for the purposes of various computations.\n",
        "We saw a brief example of this in the ``stack()`` and ``unstack()`` methods, but there are many more ways to finely control the rearrangement of data between hierarchical indices and columns, and we'll explore them here."
      ]
    },
    {
      "cell_type": "markdown",
      "metadata": {
        "deletable": true,
        "editable": true,
        "id": "Nzzt-Fizozow"
      },
      "source": [
        "### Sorted and unsorted indices\n",
        "\n",
        "Earlier, we briefly mentioned a caveat, but we should emphasize it more here.\n",
        "*Many of the ``MultiIndex`` slicing operations will fail if the index is not sorted.*\n",
        "Let's take a look at this here.\n",
        "\n",
        "We'll start by creating some simple multiply indexed data where the indices are *not lexographically sorted*:"
      ]
    },
    {
      "cell_type": "code",
      "execution_count": null,
      "metadata": {
        "deletable": true,
        "editable": true,
        "jupyter": {
          "outputs_hidden": false
        },
        "id": "Fa_JUa8aozow"
      },
      "outputs": [],
      "source": [
        "index = pd.MultiIndex.from_product([['a', 'c', 'b'], [1, 2]])\n",
        "data = pd.Series(np.random.rand(6), index=index)\n",
        "data.index.names = ['char', 'int']\n",
        "data"
      ]
    },
    {
      "cell_type": "markdown",
      "metadata": {
        "deletable": true,
        "editable": true,
        "id": "t1KjEPwYozow"
      },
      "source": [
        "If we try to take a partial slice of this index, it will result in an error:"
      ]
    },
    {
      "cell_type": "code",
      "execution_count": null,
      "metadata": {
        "deletable": true,
        "editable": true,
        "jupyter": {
          "outputs_hidden": false
        },
        "id": "XZ6-8ZOwozow"
      },
      "outputs": [],
      "source": [
        "try:\n",
        "    data['a':'b']\n",
        "except KeyError as e:\n",
        "    print(type(e))\n",
        "    print(e)"
      ]
    },
    {
      "cell_type": "markdown",
      "metadata": {
        "deletable": true,
        "editable": true,
        "id": "AqvH48WUozow"
      },
      "source": [
        "Although it is not entirely clear from the error message, this is the result of the MultiIndex not being sorted.\n",
        "For various reasons, partial slices and other similar operations require the levels in the ``MultiIndex`` to be in sorted (i.e., lexographical) order.\n",
        "Pandas provides a number of convenience routines to perform this type of sorting; examples are the ``sort_index()`` and ``sortlevel()`` methods of the ``DataFrame``.\n",
        "We'll use the simplest, ``sort_index()``, here:"
      ]
    },
    {
      "cell_type": "code",
      "execution_count": null,
      "metadata": {
        "deletable": true,
        "editable": true,
        "jupyter": {
          "outputs_hidden": false
        },
        "id": "iQtr-mOEozow"
      },
      "outputs": [],
      "source": [
        "data = data.sort_index()\n",
        "data"
      ]
    },
    {
      "cell_type": "markdown",
      "metadata": {
        "deletable": true,
        "editable": true,
        "id": "oY0Gzoozozox"
      },
      "source": [
        "With the index sorted in this way, partial slicing will work as expected:"
      ]
    },
    {
      "cell_type": "code",
      "execution_count": null,
      "metadata": {
        "deletable": true,
        "editable": true,
        "jupyter": {
          "outputs_hidden": false
        },
        "id": "-rqkvyGWozox"
      },
      "outputs": [],
      "source": [
        "data['a':'b']"
      ]
    },
    {
      "cell_type": "markdown",
      "metadata": {
        "deletable": true,
        "editable": true,
        "id": "wY3D_wluozox"
      },
      "source": [
        "### Stacking and unstacking indices\n",
        "\n",
        "As we saw briefly before, it is possible to convert a dataset from a stacked multi-index to a simple two-dimensional representation, optionally specifying the level to use:"
      ]
    },
    {
      "cell_type": "code",
      "source": [
        "pop"
      ],
      "metadata": {
        "id": "eiIxMimt169H"
      },
      "execution_count": null,
      "outputs": []
    },
    {
      "cell_type": "code",
      "execution_count": null,
      "metadata": {
        "deletable": true,
        "editable": true,
        "jupyter": {
          "outputs_hidden": false
        },
        "id": "CtBJuGhWozox"
      },
      "outputs": [],
      "source": [
        "pop.unstack(level=0)"
      ]
    },
    {
      "cell_type": "code",
      "execution_count": null,
      "metadata": {
        "deletable": true,
        "editable": true,
        "jupyter": {
          "outputs_hidden": false
        },
        "id": "zoPxR4Waozox"
      },
      "outputs": [],
      "source": [
        "pop.unstack(level=1)"
      ]
    },
    {
      "cell_type": "markdown",
      "metadata": {
        "deletable": true,
        "editable": true,
        "id": "U6035Djeozox"
      },
      "source": [
        "The opposite of ``unstack()`` is ``stack()``, which here can be used to recover the original series:"
      ]
    },
    {
      "cell_type": "code",
      "execution_count": null,
      "metadata": {
        "deletable": true,
        "editable": true,
        "jupyter": {
          "outputs_hidden": false
        },
        "id": "TOD1jMQ7ozox"
      },
      "outputs": [],
      "source": [
        "pop.unstack().stack()"
      ]
    },
    {
      "cell_type": "markdown",
      "metadata": {
        "deletable": true,
        "editable": true,
        "id": "qY5DtwItozoy"
      },
      "source": [
        "### Index setting and resetting\n",
        "\n",
        "Another way to rearrange hierarchical data is to turn the index labels into columns; this can be accomplished with the ``reset_index`` method.\n",
        "Calling this on the population dictionary will result in a ``DataFrame`` with a *state* and *year* column holding the information that was formerly in the index.\n",
        "For clarity, we can optionally specify the name of the data for the column representation:"
      ]
    },
    {
      "cell_type": "code",
      "execution_count": null,
      "metadata": {
        "deletable": true,
        "editable": true,
        "jupyter": {
          "outputs_hidden": false
        },
        "id": "5x_KA-CGozoy"
      },
      "outputs": [],
      "source": [
        "pop_flat = pop.reset_index(name='population')\n",
        "pop_flat"
      ]
    },
    {
      "cell_type": "markdown",
      "metadata": {
        "deletable": true,
        "editable": true,
        "id": "xL0NZhILozoy"
      },
      "source": [
        "Often when working with data in the real world, the raw input data looks like this and it's useful to build a ``MultiIndex`` from the column values.\n",
        "This can be done with the ``set_index`` method of the ``DataFrame``, which returns a multiply indexed ``DataFrame``:"
      ]
    },
    {
      "cell_type": "code",
      "execution_count": null,
      "metadata": {
        "deletable": true,
        "editable": true,
        "jupyter": {
          "outputs_hidden": false
        },
        "id": "OnJjKIv7ozoy"
      },
      "outputs": [],
      "source": [
        "pop_flat.set_index(['state', 'year'])"
      ]
    },
    {
      "cell_type": "markdown",
      "metadata": {
        "deletable": true,
        "editable": true,
        "id": "UjrmWEhGozoy"
      },
      "source": [
        "In practice, I find this type of reindexing to be one of the more useful patterns when encountering real-world datasets."
      ]
    }
  ],
  "metadata": {
    "anaconda-cloud": {},
    "kernelspec": {
      "display_name": "Python 3",
      "language": "python",
      "name": "python3"
    },
    "language_info": {
      "codemirror_mode": {
        "name": "ipython",
        "version": 3
      },
      "file_extension": ".py",
      "mimetype": "text/x-python",
      "name": "python",
      "nbconvert_exporter": "python",
      "pygments_lexer": "ipython3",
      "version": "3.8.10"
    },
    "colab": {
      "provenance": []
    }
  },
  "nbformat": 4,
  "nbformat_minor": 0
}