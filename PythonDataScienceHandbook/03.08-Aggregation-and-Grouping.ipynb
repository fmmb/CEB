{
  "cells": [
    {
      "cell_type": "markdown",
      "metadata": {
        "id": "WAxvV_xnJy1J"
      },
      "source": [
        "# Aggregation and Grouping\n",
        "\n",
        "This notebook was adapted from [Python Data Science Handbook](https://jakevdp.github.io/PythonDataScienceHandbook/) by Jake VanderPlas.\n",
        "\n",
        "-----"
      ]
    },
    {
      "cell_type": "markdown",
      "metadata": {
        "id": "15iuXhltJy1M"
      },
      "source": [
        "An essential piece of analysis of large data is efficient summarization: computing aggregations like ``sum()``, ``mean()``, ``median()``, ``min()``, and ``max()``, in which a single number gives insight into the nature of a potentially large dataset.\n",
        "In this section, we'll explore aggregations in Pandas, from simple operations akin to what we've seen on NumPy arrays, to more sophisticated operations based on the concept of a ``groupby``."
      ]
    },
    {
      "cell_type": "code",
      "execution_count": null,
      "metadata": {
        "id": "QaOL3nF6Jy1M"
      },
      "outputs": [],
      "source": [
        "import numpy as np\n",
        "import pandas as pd"
      ]
    },
    {
      "cell_type": "markdown",
      "metadata": {
        "id": "RRIf2S1vJy1N"
      },
      "source": [
        "For convenience, we'll use ``display``, a way of 'printing' multiple objects in the HTML format"
      ]
    },
    {
      "cell_type": "code",
      "execution_count": null,
      "metadata": {
        "id": "FBrRs0y0Jy1O"
      },
      "outputs": [],
      "source": [
        "class display(object):\n",
        "    \"\"\"Display HTML representation of multiple objects\"\"\"\n",
        "    template = \"\"\"<div style=\"float: left; padding: 10px;\">\n",
        "    <p style='font-family:\"Courier New\", Courier, monospace'>{0}</p>{1}\n",
        "    </div>\"\"\"\n",
        "    def __init__(self, *args):\n",
        "        self.args = args\n",
        "\n",
        "    def _repr_html_(self):\n",
        "        return '\\n'.join(self.template.format(a, eval(a)._repr_html_())\n",
        "                         for a in self.args)\n",
        "\n",
        "    def __repr__(self):\n",
        "        return '\\n\\n'.join(a + '\\n' + repr(eval(a)) for a in self.args)"
      ]
    },
    {
      "cell_type": "markdown",
      "metadata": {
        "id": "l4TXfkgjJy1O"
      },
      "source": [
        "## Simple Aggregation in Pandas"
      ]
    },
    {
      "cell_type": "markdown",
      "metadata": {
        "id": "ZyGrNDPrJy1O"
      },
      "source": [
        "As with a one-dimensional NumPy array, for a Pandas ``Series`` the aggregates return a single value:"
      ]
    },
    {
      "cell_type": "code",
      "execution_count": null,
      "metadata": {
        "jupyter": {
          "outputs_hidden": false
        },
        "id": "XH5qZQxEJy1P"
      },
      "outputs": [],
      "source": [
        "rng = np.random.RandomState(42)\n",
        "ser = pd.Series(rng.rand(5))\n",
        "ser"
      ]
    },
    {
      "cell_type": "code",
      "execution_count": null,
      "metadata": {
        "jupyter": {
          "outputs_hidden": false
        },
        "id": "HpZsiy7ZJy1P"
      },
      "outputs": [],
      "source": [
        "ser.sum()"
      ]
    },
    {
      "cell_type": "code",
      "execution_count": null,
      "metadata": {
        "jupyter": {
          "outputs_hidden": false
        },
        "id": "EK1HRArGJy1Q"
      },
      "outputs": [],
      "source": [
        "ser.mean()"
      ]
    },
    {
      "cell_type": "markdown",
      "metadata": {
        "id": "TjG-J2EeJy1Q"
      },
      "source": [
        "For a ``DataFrame``, by default the aggregates return results within each column:"
      ]
    },
    {
      "cell_type": "code",
      "execution_count": null,
      "metadata": {
        "jupyter": {
          "outputs_hidden": false
        },
        "id": "CPFUPnUzJy1Q"
      },
      "outputs": [],
      "source": [
        "df = pd.DataFrame({'A': rng.rand(5),\n",
        "                   'B': rng.rand(5)})\n",
        "df"
      ]
    },
    {
      "cell_type": "code",
      "execution_count": null,
      "metadata": {
        "jupyter": {
          "outputs_hidden": false
        },
        "id": "kowJdbh4Jy1Q"
      },
      "outputs": [],
      "source": [
        "df.mean()"
      ]
    },
    {
      "cell_type": "markdown",
      "metadata": {
        "id": "hkBCIHjoJy1Q"
      },
      "source": [
        "By specifying the ``axis`` argument, you can instead aggregate within each row:"
      ]
    },
    {
      "cell_type": "code",
      "execution_count": null,
      "metadata": {
        "jupyter": {
          "outputs_hidden": false
        },
        "id": "HFnbdNXQJy1R"
      },
      "outputs": [],
      "source": [
        "df.mean(axis='columns')"
      ]
    },
    {
      "cell_type": "markdown",
      "metadata": {
        "id": "nM9LZPdPJy1R"
      },
      "source": [
        "## Planets Data\n",
        "\n",
        "The [Seaborn package](http://seaborn.pydata.org/) contains a number of interesting datasets (see [Visualization With Seaborn](https://jakevdp.github.io/PythonDataScienceHandbook/04.00-introduction-to-matplotlib.html))"
      ]
    },
    {
      "cell_type": "code",
      "execution_count": null,
      "metadata": {
        "id": "E9jq0R6HJy1R"
      },
      "outputs": [],
      "source": [
        "import seaborn as sns\n",
        "print(sns.get_dataset_names())"
      ]
    },
    {
      "cell_type": "markdown",
      "metadata": {
        "id": "t4687qW9Jy1R"
      },
      "source": [
        "Here we will use the Planets dataset. It gives information on planets that astronomers have discovered around other stars (known as *extrasolar planets* or *exoplanets* for short). It can be downloaded with a simple Seaborn command:"
      ]
    },
    {
      "cell_type": "code",
      "execution_count": null,
      "metadata": {
        "jupyter": {
          "outputs_hidden": false
        },
        "id": "hwuM-vOvJy1R"
      },
      "outputs": [],
      "source": [
        "planets = sns.load_dataset('planets')\n",
        "planets.shape"
      ]
    },
    {
      "cell_type": "code",
      "execution_count": null,
      "metadata": {
        "jupyter": {
          "outputs_hidden": false
        },
        "id": "wkTKnBlmJy1R"
      },
      "outputs": [],
      "source": [
        "planets.sample(5)"
      ]
    },
    {
      "cell_type": "markdown",
      "metadata": {
        "id": "9sVSM9yXJy1R"
      },
      "source": [
        "This has some details on the 1,000+ extrasolar planets discovered up to 2014."
      ]
    },
    {
      "cell_type": "markdown",
      "metadata": {
        "id": "G4-iq9WTJy1R"
      },
      "source": [
        "There is a convenience method ``describe()`` that computes several common aggregates for each column and returns the result.\n",
        "Let's use this on the Planets data, for now dropping rows with missing values:"
      ]
    },
    {
      "cell_type": "code",
      "execution_count": null,
      "metadata": {
        "jupyter": {
          "outputs_hidden": false
        },
        "id": "XEc_GWPFJy1S"
      },
      "outputs": [],
      "source": [
        "planets.dropna().describe()"
      ]
    },
    {
      "cell_type": "markdown",
      "metadata": {
        "id": "OuQZCdjvJy1S"
      },
      "source": [
        "This can be a useful way to begin understanding the overall properties of a dataset.\n",
        "For example, we see in the ``year`` column that although exoplanets were discovered as far back as 1989, half of all known expolanets were not discovered until 2010 or after.\n",
        "This is largely thanks to the *Kepler* mission, which is a space-based telescope specifically designed for finding eclipsing planets around other stars."
      ]
    },
    {
      "cell_type": "markdown",
      "metadata": {
        "id": "ca_QxYwAJy1S"
      },
      "source": [
        "The following table summarizes some other built-in Pandas aggregations:\n",
        "\n",
        "| Aggregation              | Description                     |\n",
        "|--------------------------|---------------------------------|\n",
        "| ``count()``              | Total number of items           |\n",
        "| ``first()``, ``last()``  | First and last item             |\n",
        "| ``mean()``, ``median()`` | Mean and median                 |\n",
        "| ``min()``, ``max()``     | Minimum and maximum             |\n",
        "| ``std()``, ``var()``     | Standard deviation and variance |\n",
        "| ``mad()``                | Mean absolute deviation         |\n",
        "| ``prod()``               | Product of all items            |\n",
        "| ``sum()``                | Sum of all items                |\n",
        "\n",
        "These are all methods of ``DataFrame`` and ``Series`` objects."
      ]
    },
    {
      "cell_type": "markdown",
      "metadata": {
        "id": "mregsF5DJy1S"
      },
      "source": [
        "To go deeper into the data, however, simple aggregates are often not enough.\n",
        "The next level of data summarization is the ``groupby`` operation, which allows you to quickly and efficiently compute aggregates on subsets of data."
      ]
    },
    {
      "cell_type": "markdown",
      "metadata": {
        "id": "0IxZZUewJy1S"
      },
      "source": [
        "## GroupBy: Split, Apply, Combine\n",
        "\n",
        "Simple aggregations can give you a flavor of your dataset, but often we would prefer to aggregate conditionally on some label or index: this is implemented in the so-called ``groupby`` operation.\n",
        "The name \"group by\" comes from a command in the SQL database language, but it is perhaps more illuminative to think of it in the terms first coined by Hadley Wickham of Rstats fame: *split, apply, combine*."
      ]
    },
    {
      "cell_type": "code",
      "execution_count": null,
      "metadata": {
        "id": "y3T2xCgrJy1S"
      },
      "outputs": [],
      "source": [
        "planets.sample(5)"
      ]
    },
    {
      "cell_type": "code",
      "execution_count": null,
      "metadata": {
        "id": "F5rnB3vfJy1S"
      },
      "outputs": [],
      "source": [
        "planets.groupby('method').median()"
      ]
    },
    {
      "cell_type": "markdown",
      "metadata": {
        "id": "uCXoFcArJy1S"
      },
      "source": [
        "### Split, apply, combine\n",
        "\n",
        "A canonical example of this split-apply-combine operation, where the \"apply\" is a summation aggregation, is illustrated in this figure:"
      ]
    },
    {
      "cell_type": "markdown",
      "metadata": {
        "id": "tC60cx5qJy1S"
      },
      "source": [
        "![03.08-split-apply-combine.png](https://github.com/fmmb/CEB/blob/main/notebooks/images/pandas-groupby.png?raw=true)"
      ]
    },
    {
      "cell_type": "markdown",
      "metadata": {
        "id": "PsCeilWMJy1S"
      },
      "source": [
        "This makes clear what the ``groupby`` accomplishes:\n",
        "\n",
        "- The *split* step involves breaking up and grouping a ``DataFrame`` depending on the value of the specified key.\n",
        "- The *apply* step involves computing some function, usually an aggregate, transformation, or filtering, within the individual groups.\n",
        "- The *combine* step merges the results of these operations into an output array.\n",
        "\n",
        "While this could certainly be done manually using some combination of the masking, aggregation, and merging commands covered earlier, an important realization is that *the intermediate splits do not need to be explicitly instantiated*. Rather, the ``GroupBy`` can (often) do this in a single pass over the data, updating the sum, mean, count, min, or other aggregate for each group along the way.\n",
        "The power of the ``GroupBy`` is that it abstracts away these steps: the user need not think about *how* the computation is done under the hood, but rather thinks about the *operation as a whole*.\n",
        "\n",
        "As a concrete example, let's take a look at using Pandas for the computation shown in this diagram.\n",
        "We'll start by creating the input ``DataFrame``:"
      ]
    },
    {
      "cell_type": "code",
      "execution_count": null,
      "metadata": {
        "jupyter": {
          "outputs_hidden": false
        },
        "id": "B1Su88ioJy1T"
      },
      "outputs": [],
      "source": [
        "df = pd.DataFrame({'key': ['A', 'B', 'C', 'A', 'B', 'C'],\n",
        "                   'data': range(6)\n",
        "                  })\n",
        "df"
      ]
    },
    {
      "cell_type": "markdown",
      "metadata": {
        "id": "RaS6Ctp3Jy1T"
      },
      "source": [
        "The most basic split-apply-combine operation can be computed with the ``groupby()`` method of ``DataFrame``s, passing the name of the desired key column:"
      ]
    },
    {
      "cell_type": "code",
      "execution_count": null,
      "metadata": {
        "jupyter": {
          "outputs_hidden": false
        },
        "id": "mS5Lf4trJy1T"
      },
      "outputs": [],
      "source": [
        "df.groupby('key')"
      ]
    },
    {
      "cell_type": "markdown",
      "metadata": {
        "id": "sNZjVNWIJy1T"
      },
      "source": [
        "Notice that what is returned is not a set of ``DataFrame``s, but a ``DataFrameGroupBy`` object.\n",
        "This object is where the magic is: you can think of it as a special view of the ``DataFrame``, which is poised to dig into the groups but does no actual computation until the aggregation is applied.\n",
        "This \"lazy evaluation\" approach means that common aggregates can be implemented very efficiently in a way that is almost transparent to the user.\n",
        "\n",
        "To produce a result, we can apply an aggregate to this ``DataFrameGroupBy`` object, which will perform the appropriate apply/combine steps to produce the desired result:"
      ]
    },
    {
      "cell_type": "code",
      "execution_count": null,
      "metadata": {
        "jupyter": {
          "outputs_hidden": false
        },
        "id": "DT-Hwkh9Jy1T"
      },
      "outputs": [],
      "source": [
        "df.groupby('key').sum()"
      ]
    },
    {
      "cell_type": "markdown",
      "metadata": {
        "id": "ta2Fs4aiJy1T"
      },
      "source": [
        "The ``sum()`` method is just one possibility here; you can apply virtually any common Pandas or NumPy aggregation function, as well as virtually any valid ``DataFrame`` operation, as we will see in the following discussion."
      ]
    },
    {
      "cell_type": "markdown",
      "metadata": {
        "id": "CPaPo6ZkJy1T"
      },
      "source": [
        "### The GroupBy object\n",
        "\n",
        "The ``GroupBy`` object is a very flexible abstraction.\n",
        "In many ways, you can simply treat it as if it's a collection of ``DataFrame``s, and it does the difficult things under the hood. Let's see some examples using the Planets data.\n",
        "\n",
        "Perhaps the most important operations made available by a ``GroupBy`` are *aggregate*, *filter*, *transform*, and *apply*.\n",
        "Let's introduce some of the other functionality that can be used with the basic ``GroupBy`` operation."
      ]
    },
    {
      "cell_type": "markdown",
      "metadata": {
        "id": "E9vSk__tJy1X"
      },
      "source": [
        "#### Column indexing\n",
        "\n",
        "The ``GroupBy`` object supports column indexing in the same way as the ``DataFrame``, and returns a modified ``GroupBy`` object.\n",
        "For example:"
      ]
    },
    {
      "cell_type": "code",
      "execution_count": null,
      "metadata": {
        "id": "9kIykfo0Jy1X"
      },
      "outputs": [],
      "source": [
        "planets.sample(5)"
      ]
    },
    {
      "cell_type": "code",
      "execution_count": null,
      "metadata": {
        "jupyter": {
          "outputs_hidden": false
        },
        "id": "GciLxgH0Jy1X"
      },
      "outputs": [],
      "source": [
        "planets.groupby('method')"
      ]
    },
    {
      "cell_type": "code",
      "execution_count": null,
      "metadata": {
        "id": "TWX5JuRRJy1X"
      },
      "outputs": [],
      "source": [
        "planets.groupby('method').median()"
      ]
    },
    {
      "cell_type": "code",
      "execution_count": null,
      "metadata": {
        "jupyter": {
          "outputs_hidden": false
        },
        "id": "95KfQv6HJy1X"
      },
      "outputs": [],
      "source": [
        "planets.groupby('method')['orbital_period']"
      ]
    },
    {
      "cell_type": "markdown",
      "metadata": {
        "id": "iVbrPH9kJy1X"
      },
      "source": [
        "Here we've selected a particular ``Series`` group from the original ``DataFrame`` group by reference to its column name.\n",
        "As with the ``GroupBy`` object, no computation is done until we call some aggregate on the object:"
      ]
    },
    {
      "cell_type": "code",
      "execution_count": null,
      "metadata": {
        "jupyter": {
          "outputs_hidden": false
        },
        "id": "nr4DmcoiJy1Y"
      },
      "outputs": [],
      "source": [
        "planets.groupby('method')['orbital_period'].median()"
      ]
    },
    {
      "cell_type": "markdown",
      "metadata": {
        "id": "T5BvsD9zJy1Y"
      },
      "source": [
        "This gives an idea of the general scale of orbital periods (in days) that each method is sensitive to."
      ]
    },
    {
      "cell_type": "markdown",
      "metadata": {
        "id": "GzckhASVJy1Y"
      },
      "source": [
        "#### Iteration over groups\n",
        "\n",
        "The ``GroupBy`` object supports direct iteration over the groups, returning each group as a ``Series`` or ``DataFrame``:"
      ]
    },
    {
      "cell_type": "code",
      "execution_count": null,
      "metadata": {
        "jupyter": {
          "outputs_hidden": false
        },
        "id": "aztZwrUWJy1Y"
      },
      "outputs": [],
      "source": [
        "for (method, group) in planets.groupby('method'):\n",
        "    print(f\"====> {method:30s} shape={group.shape}\")\n",
        "    #print(group)"
      ]
    },
    {
      "cell_type": "markdown",
      "metadata": {
        "id": "EReNxjiFJy1Y"
      },
      "source": [
        "This can be useful for doing certain things manually, though it is often much faster to use the built-in ``apply`` functionality, which we will discuss momentarily."
      ]
    },
    {
      "cell_type": "markdown",
      "metadata": {
        "id": "RFwRHtv6Jy1Y"
      },
      "source": [
        "#### Dispatch methods\n",
        "\n",
        "Through some Python class magic, any method not explicitly implemented by the ``GroupBy`` object will be passed through and called on the groups, whether they are ``DataFrame`` or ``Series`` objects.\n",
        "For example, you can use the ``describe()`` method of ``DataFrame``s to perform a set of aggregations that describe each group in the data:"
      ]
    },
    {
      "cell_type": "code",
      "execution_count": null,
      "metadata": {
        "jupyter": {
          "outputs_hidden": false
        },
        "id": "btHNeRtKJy1Y"
      },
      "outputs": [],
      "source": [
        "planets.groupby('method')['year'].describe()"
      ]
    },
    {
      "cell_type": "markdown",
      "metadata": {
        "id": "2EqHywM3Jy1Y"
      },
      "source": [
        "Looking at this table helps us to better understand the data: for example, the vast majority of planets have been discovered by the Radial Velocity and Transit methods, though the latter only became common (due to new, more accurate telescopes) in the last decade.\n",
        "The newest methods seem to be Transit Timing Variation and Orbital Brightness Modulation, which were not used to discover a new planet until 2011.\n",
        "\n",
        "This is just one example of the utility of dispatch methods.\n",
        "Notice that they are applied *to each individual group*, and the results are then combined within ``GroupBy`` and returned.\n",
        "Again, any valid ``DataFrame``/``Series`` method can be used on the corresponding ``GroupBy`` object, which allows for some very flexible and powerful operations!"
      ]
    },
    {
      "cell_type": "markdown",
      "metadata": {
        "id": "wOAJMaraJy1Y"
      },
      "source": [
        "### Aggregate, filter, transform, apply\n",
        "\n",
        "The preceding discussion focused on aggregation for the combine operation, but there are more options available.\n",
        "In particular, ``GroupBy`` objects have ``aggregate()``, ``filter()``, ``transform()``, and ``apply()`` methods that efficiently implement a variety of useful operations before combining the grouped data.\n",
        "\n",
        "For the purpose of the following subsections, we'll use this ``DataFrame``:"
      ]
    },
    {
      "cell_type": "code",
      "execution_count": null,
      "metadata": {
        "jupyter": {
          "outputs_hidden": false
        },
        "id": "6gWplLmuJy1Z"
      },
      "outputs": [],
      "source": [
        "rng = np.random.RandomState(0)\n",
        "df = pd.DataFrame({'key': ['A', 'B', 'C', 'A', 'B', 'C'],\n",
        "                   'data1': range(6),\n",
        "                   'data2': rng.randint(0, 10, 6)},\n",
        "                   columns = ['key', 'data1', 'data2'])\n",
        "df"
      ]
    },
    {
      "cell_type": "markdown",
      "metadata": {
        "id": "Gv0fShvRJy1Z"
      },
      "source": [
        "#### Aggregation\n",
        "\n",
        "We're now familiar with ``GroupBy`` aggregations with ``sum()``, ``median()``, and the like, but the ``aggregate()`` method allows for even more flexibility.\n",
        "It can take a string, a function, or a list thereof, and compute all the aggregates at once.\n",
        "Here is a quick example combining all these:"
      ]
    },
    {
      "cell_type": "code",
      "execution_count": null,
      "metadata": {
        "id": "goSdJ0BhJy1Z"
      },
      "outputs": [],
      "source": [
        "df.groupby('key').min()"
      ]
    },
    {
      "cell_type": "code",
      "execution_count": null,
      "metadata": {
        "id": "-_8r5u-0Jy1Z"
      },
      "outputs": [],
      "source": [
        "df.groupby('key').aggregate([min, np.median, max])"
      ]
    },
    {
      "cell_type": "code",
      "execution_count": null,
      "metadata": {
        "jupyter": {
          "outputs_hidden": false
        },
        "id": "j2LLrHDDJy1Z"
      },
      "outputs": [],
      "source": [
        "df.groupby('key').aggregate(['min', np.median, 'max'])"
      ]
    },
    {
      "cell_type": "markdown",
      "metadata": {
        "id": "h7rpxs-oJy1Z"
      },
      "source": [
        "Another useful pattern is to pass a dictionary mapping column names to operations to be applied on that column:"
      ]
    },
    {
      "cell_type": "code",
      "execution_count": null,
      "metadata": {
        "jupyter": {
          "outputs_hidden": false
        },
        "id": "aTHfGd9jJy1Z"
      },
      "outputs": [],
      "source": [
        "df.groupby('key').aggregate({'data1': 'min', 'data2': 'max'})"
      ]
    },
    {
      "cell_type": "markdown",
      "metadata": {
        "id": "PLbNeWqsJy1Z"
      },
      "source": [
        "#### Filtering\n",
        "\n",
        "A filtering operation allows you to drop data based on the group properties.\n",
        "For example, we might want to keep all groups in which the standard deviation is larger than some critical value:"
      ]
    },
    {
      "cell_type": "code",
      "execution_count": null,
      "metadata": {
        "id": "qYJV13fcJy1a"
      },
      "outputs": [],
      "source": [
        "df"
      ]
    },
    {
      "cell_type": "code",
      "execution_count": null,
      "metadata": {
        "id": "gV8AvvSkJy1a"
      },
      "outputs": [],
      "source": [
        "df.groupby('key').std()"
      ]
    },
    {
      "cell_type": "code",
      "execution_count": null,
      "metadata": {
        "id": "9PxC06QcJy1a"
      },
      "outputs": [],
      "source": [
        "# suppose you want to only include data for groups that obey to a certain criteria\n",
        "def filter_func(x):\n",
        "    ''' x is a DataFrame of group values '''\n",
        "    return x['data2'].std() > 4\n",
        "\n",
        "df.groupby('key').filter(filter_func)"
      ]
    },
    {
      "cell_type": "markdown",
      "metadata": {
        "id": "hkwDqSKMJy1a"
      },
      "source": [
        "Or, we can use the magic function `display`to show all the 3 results"
      ]
    },
    {
      "cell_type": "code",
      "execution_count": null,
      "metadata": {
        "jupyter": {
          "outputs_hidden": false
        },
        "id": "ZB-lnXLEJy1a"
      },
      "outputs": [],
      "source": [
        "def filter_func(x):\n",
        "    return x['data2'].std() > 4\n",
        "\n",
        "display('df', \"df.groupby('key').std()\", \"df.groupby('key').filter(filter_func)\")"
      ]
    },
    {
      "cell_type": "markdown",
      "metadata": {
        "id": "Yu6RwAQ3Jy1a"
      },
      "source": [
        "The filter function should return a Boolean value specifying whether the group passes the filtering. Here because group A does not have a standard deviation greater than 4, it is dropped from the result."
      ]
    },
    {
      "cell_type": "markdown",
      "metadata": {
        "id": "iUPO3gGTJy1a"
      },
      "source": [
        "#### Transformation\n",
        "\n",
        "While aggregation must return a reduced version of the data, transformation can return some transformed version of the full data to recombine.\n",
        "For such a transformation, the output is the same shape as the input.\n",
        "A common example is to center the data by subtracting the group-wise mean:"
      ]
    },
    {
      "cell_type": "code",
      "execution_count": null,
      "metadata": {
        "id": "RvERWXb8Jy1a"
      },
      "outputs": [],
      "source": [
        "def sub_group_mean(x):\n",
        "    ''' x is a DataFrame of group values '''\n",
        "    return x - x.mean()\n",
        "\n",
        "df.groupby('key').transform(sub_group_mean)"
      ]
    },
    {
      "cell_type": "markdown",
      "metadata": {
        "id": "T1xf8ZKdJy1a"
      },
      "source": [
        "#### The apply() method\n",
        "\n",
        "The ``apply()`` method lets you apply an arbitrary function to the group results.\n",
        "The function should take a ``DataFrame``, and return either a Pandas object (e.g., ``DataFrame``, ``Series``) or a scalar; the combine operation will be tailored to the type of output returned.\n",
        "\n",
        "For example, here is an ``apply()`` that normalizes the first column by the sum of the second:"
      ]
    },
    {
      "cell_type": "code",
      "execution_count": null,
      "metadata": {
        "id": "Uk0vJYzAJy1b"
      },
      "outputs": [],
      "source": [
        "df"
      ]
    },
    {
      "cell_type": "code",
      "execution_count": null,
      "metadata": {
        "jupyter": {
          "outputs_hidden": false
        },
        "id": "dt8FdWgGJy1b"
      },
      "outputs": [],
      "source": [
        "def norm_by_data2(x):\n",
        "    ''' x is a DataFrame of group values '''\n",
        "    x['data1'] /= x['data2'].sum()\n",
        "    return x\n",
        "\n",
        "display('df', \"df.groupby('key').apply(norm_by_data2)\")"
      ]
    },
    {
      "cell_type": "markdown",
      "metadata": {
        "id": "wkIEk-86Jy1b"
      },
      "source": [
        "``apply()`` within a ``GroupBy`` is quite flexible: the only criterion is that the function takes a ``DataFrame`` and returns a Pandas object or scalar; what you do in the middle is up to you!"
      ]
    },
    {
      "cell_type": "markdown",
      "metadata": {
        "id": "L94-Y4kFJy1b"
      },
      "source": [
        "### (Extra) Specifying the split key\n",
        "\n",
        "In the simple examples presented before, we split the ``DataFrame`` on a single column name.\n",
        "This is just one of many options by which the groups can be defined, and we'll go through some other options for group specification here."
      ]
    },
    {
      "cell_type": "markdown",
      "metadata": {
        "id": "5jdOwULQJy1b"
      },
      "source": [
        "#### A list, array, series, or index providing the grouping keys\n",
        "\n",
        "The key can be any series or list with a length matching that of the ``DataFrame``. For example:"
      ]
    },
    {
      "cell_type": "code",
      "execution_count": null,
      "metadata": {
        "jupyter": {
          "outputs_hidden": false
        },
        "id": "hRgshHK9Jy1b"
      },
      "outputs": [],
      "source": [
        "L = [0, 1, 0, 1, 2, 0]\n",
        "L = [\"Mike\", \"Ana\", \"Mike\", \"Ana\", \"Peter\", \"Mike\"]\n",
        "display('df', 'df.groupby(L).sum()')"
      ]
    },
    {
      "cell_type": "markdown",
      "metadata": {
        "id": "vTPIGnAWJy1b"
      },
      "source": [
        "Of course, this means there's another, more verbose way of accomplishing the ``df.groupby('key')`` from before:"
      ]
    },
    {
      "cell_type": "code",
      "execution_count": null,
      "metadata": {
        "jupyter": {
          "outputs_hidden": false
        },
        "id": "2wj_FLazJy1b"
      },
      "outputs": [],
      "source": [
        "display('df', \"df.groupby(df['key']).sum()\")"
      ]
    },
    {
      "cell_type": "markdown",
      "metadata": {
        "id": "ZtHpeq9SJy1c"
      },
      "source": [
        "#### A dictionary or series mapping index to group\n",
        "\n",
        "Another method is to provide a dictionary that maps index values to the group keys:"
      ]
    },
    {
      "cell_type": "code",
      "execution_count": null,
      "metadata": {
        "jupyter": {
          "outputs_hidden": false
        },
        "id": "t5NrzV_qJy1c"
      },
      "outputs": [],
      "source": [
        "df2 = df.set_index('key')\n",
        "mapping = {'A': 'vowel', 'B': 'consonant', 'C': 'consonant'}\n",
        "display('df2', 'df2.groupby(mapping).sum()')"
      ]
    },
    {
      "cell_type": "markdown",
      "metadata": {
        "id": "LFkjBIF1Jy1c"
      },
      "source": [
        "#### Any Python function\n",
        "\n",
        "Similar to mapping, you can pass any Python function that will input the index value and output the group:"
      ]
    },
    {
      "cell_type": "code",
      "execution_count": null,
      "metadata": {
        "jupyter": {
          "outputs_hidden": false
        },
        "id": "YbYv5lhdJy1c"
      },
      "outputs": [],
      "source": [
        "display('df2', 'df2.groupby(str.lower).mean()')"
      ]
    },
    {
      "cell_type": "markdown",
      "metadata": {
        "id": "MOFcwxoJJy1c"
      },
      "source": [
        "#### A list of valid keys\n",
        "\n",
        "Further, any of the preceding key choices can be combined to group on a multi-index:"
      ]
    },
    {
      "cell_type": "code",
      "execution_count": null,
      "metadata": {
        "jupyter": {
          "outputs_hidden": false
        },
        "id": "4-xlByA8Jy1c"
      },
      "outputs": [],
      "source": [
        "mapping = {'A': 'vowel', 'B': 'consonant', 'C': 'consonant'}\n",
        "df2.groupby([str.lower, mapping]).mean()"
      ]
    },
    {
      "cell_type": "markdown",
      "metadata": {
        "id": "OWE4taeFJy1c"
      },
      "source": [
        "### Grouping example\n",
        "\n",
        "As an example of this, in a couple lines of Python code we can put all these together and count discovered planets by method and by decade:"
      ]
    },
    {
      "cell_type": "code",
      "execution_count": null,
      "metadata": {
        "id": "oQEnklDRJy1d"
      },
      "outputs": [],
      "source": [
        "planets"
      ]
    },
    {
      "cell_type": "code",
      "execution_count": null,
      "metadata": {
        "jupyter": {
          "outputs_hidden": false
        },
        "id": "SssuND2PJy1d"
      },
      "outputs": [],
      "source": [
        "decade = 10 * (planets['year'] // 10)\n",
        "decade = decade.astype(str) + 's'\n",
        "decade.name = 'decade'\n",
        "decade"
      ]
    },
    {
      "cell_type": "code",
      "execution_count": null,
      "metadata": {
        "id": "UduLa3aXJy1d"
      },
      "outputs": [],
      "source": [
        "planets.groupby(['method', decade])['number'].sum().unstack().fillna(0)"
      ]
    },
    {
      "cell_type": "markdown",
      "metadata": {
        "id": "hjFORktiJy1d"
      },
      "source": [
        "This shows the power of combining many of the operations we've discussed up to this point when looking at realistic datasets.\n",
        "We immediately gain a coarse understanding of when and how planets have been discovered over the past several decades!\n",
        "\n",
        "Here I would suggest digging into these few lines of code, and evaluating the individual steps to make sure you understand exactly what they are doing to the result.\n",
        "It's certainly a somewhat complicated example, but understanding these pieces will give you the means to similarly explore your own data."
      ]
    }
  ],
  "metadata": {
    "anaconda-cloud": {},
    "kernelspec": {
      "display_name": "Python 3",
      "language": "python",
      "name": "python3"
    },
    "language_info": {
      "codemirror_mode": {
        "name": "ipython",
        "version": 3
      },
      "file_extension": ".py",
      "mimetype": "text/x-python",
      "name": "python",
      "nbconvert_exporter": "python",
      "pygments_lexer": "ipython3",
      "version": "3.8.10"
    },
    "colab": {
      "provenance": []
    }
  },
  "nbformat": 4,
  "nbformat_minor": 0
}