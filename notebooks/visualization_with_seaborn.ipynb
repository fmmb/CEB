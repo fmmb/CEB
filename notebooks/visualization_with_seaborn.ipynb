{
  "cells": [
    {
      "cell_type": "markdown",
      "metadata": {
        "id": "Djenlnlb0V0V"
      },
      "source": [
        "# Seaborn Visualization\n",
        "\n",
        "Seaborn is a Python data visualization library based on matplotlib that makes statistical data visualization easier and more visually appealing. The official documentation can be found [here](https://seaborn.pydata.org/index.html)."
      ]
    },
    {
      "cell_type": "code",
      "execution_count": null,
      "metadata": {
        "id": "jUI_vh9z7_DT"
      },
      "outputs": [],
      "source": [
        "# Load the appropriate Python libraries.\n",
        "import pandas as pd\n",
        "import matplotlib.pyplot as plt\n",
        "import seaborn as sns\n",
        "import numpy as np"
      ]
    },
    {
      "cell_type": "code",
      "execution_count": null,
      "metadata": {
        "id": "tuqOUHLQ72e0"
      },
      "outputs": [],
      "source": [
        "# Read the CSV file with customer churn data.\n",
        "url = 'http://bit.ly/comm_churn'\n",
        "df_churn = pd.read_csv(url)"
      ]
    },
    {
      "cell_type": "code",
      "execution_count": null,
      "metadata": {
        "colab": {
          "base_uri": "https://localhost:8080/",
          "height": 206
        },
        "id": "nR_oKX2H8P7d",
        "outputId": "ea1549d5-32b3-40ab-d526-9204bfb2a4d1"
      },
      "outputs": [],
      "source": [
        "# Preview the first few records in the data.\n",
        "df_churn.head(5)"
      ]
    },
    {
      "cell_type": "markdown",
      "metadata": {
        "id": "wrPutClX4ny8"
      },
      "source": [
        "## Themes and Aesthetics\n",
        "\n",
        "One of Seaborn's biggest advantages is its built-in aesthetics, which make visualizations look polished right out of the box. We can easily switch between different themes to customize the look and feel of our plots."
      ]
    },
    {
      "cell_type": "markdown",
      "metadata": {
        "id": "sEbc0IIk6KbV"
      },
      "source": [
        "Comparison between Matplotlib and Seaborn aesthetics"
      ]
    },
    {
      "cell_type": "code",
      "execution_count": null,
      "metadata": {
        "colab": {
          "base_uri": "https://localhost:8080/",
          "height": 887
        },
        "id": "ed0VfCh96IAd",
        "outputId": "a5e7333c-ec21-4745-bc2d-9c1ce99653cb"
      },
      "outputs": [],
      "source": [
        "data = np.random.randn(1000)\n",
        "\n",
        "# Matplotlib\n",
        "plt.hist(data, bins=30)\n",
        "plt.title(\"Matplotlib Histogram\")\n",
        "plt.show()\n",
        "\n",
        "# Seaborn\n",
        "sns.histplot(data, bins=30, kde=True)\n",
        "plt.title(\"Seaborn Histogram\")\n",
        "plt.show()"
      ]
    },
    {
      "cell_type": "markdown",
      "metadata": {
        "id": "wxOar3WR6Y4o"
      },
      "source": [
        "Different seaborn themes"
      ]
    },
    {
      "cell_type": "code",
      "execution_count": null,
      "metadata": {
        "colab": {
          "base_uri": "https://localhost:8080/",
          "height": 1000
        },
        "id": "Qt052yYj5MZQ",
        "outputId": "3c887d1f-1c02-4abd-968e-946c1c9922a6"
      },
      "outputs": [],
      "source": [
        "data = np.random.randn(100)\n",
        "\n",
        "# Different themes\n",
        "themes = [\"darkgrid\", \"whitegrid\", \"dark\", \"white\", \"ticks\"]\n",
        "\n",
        "for theme in themes:\n",
        "    sns.set_theme(style=theme)\n",
        "    plt.figure()\n",
        "    sns.histplot(data, kde=True)\n",
        "    plt.title(f\"Seaborn Theme: {theme}\")\n",
        "    plt.show()"
      ]
    },
    {
      "cell_type": "markdown",
      "metadata": {
        "id": "pSZOQjv45kei"
      },
      "source": [
        "And we can set a theme to be used in the entire notebook"
      ]
    },
    {
      "cell_type": "code",
      "execution_count": null,
      "metadata": {
        "id": "Ezd1KrR05n9b"
      },
      "outputs": [],
      "source": [
        "sns.set_theme(style=\"darkgrid\")"
      ]
    },
    {
      "cell_type": "markdown",
      "metadata": {
        "id": "0ni5p2xu6hTY"
      },
      "source": [
        "## Simplified complex plots"
      ]
    },
    {
      "cell_type": "code",
      "execution_count": null,
      "metadata": {
        "colab": {
          "base_uri": "https://localhost:8080/",
          "height": 501
        },
        "id": "V94u42nn9RHW",
        "outputId": "68abcc5d-6e0f-4f9d-ec01-ec94766f019f"
      },
      "outputs": [],
      "source": [
        "# DISTRIBUTION PLOTS.\n",
        "sns.displot(df_churn, x=\"monthly_charges\");\n",
        "# sns.displot(df_churn, x=\"monthly_charges\", kind=\"kde\");\n",
        "# sns.displot(df_churn, x=\"monthly_charges\", kind=\"kde\", fill=True);\n",
        "# sns.displot(df_churn, x=\"monthly_charges\", hue=\"internet_service\");\n",
        "# sns.displot(df_churn, x=\"monthly_charges\", hue=\"internet_service\", kind=\"kde\", fill=True);"
      ]
    },
    {
      "cell_type": "code",
      "execution_count": null,
      "metadata": {
        "colab": {
          "base_uri": "https://localhost:8080/",
          "height": 458
        },
        "id": "CdWnOJul8kAl",
        "outputId": "06327b9d-b956-4007-dff0-a1fdf47b3138"
      },
      "outputs": [],
      "source": [
        "# COUNT PLOTS.\n",
        "sns.countplot(x=\"contract_type\", data=df_churn);\n",
        "# sns.countplot(x=\"contract_type\", hue=\"churn\", data=df_churn);\n",
        "# sns.countplot(y=\"contract_type\", hue=\"churn\", data=df_churn);\n",
        "# sns.countplot(y=\"contract_type\", hue=\"churn\", palette=\"Set2\", data=df_churn);"
      ]
    },
    {
      "cell_type": "code",
      "execution_count": null,
      "metadata": {
        "colab": {
          "base_uri": "https://localhost:8080/",
          "height": 458
        },
        "id": "fu3cAdlCAR-M",
        "outputId": "a530c0d9-0ff5-4575-8e2c-77f031d7e30c"
      },
      "outputs": [],
      "source": [
        "# BOX PLOTS.\n",
        "sns.boxplot(x=\"payment_method\", y=\"monthly_charges\", data=df_churn);\n",
        "# sns.violinplot(x=\"payment_method\", y=\"monthly_charges\", data=df_churn);\n",
        "# sns.boxplot(x=\"phone_service\", y=\"monthly_charges\", data=df_churn);\n",
        "# sns.boxplot(x=\"phone_service\", y=\"monthly_charges\", hue=\"senior_citizen\", data=df_churn);"
      ]
    },
    {
      "cell_type": "code",
      "execution_count": null,
      "metadata": {
        "id": "Gi_QIXIjrhRg"
      },
      "outputs": [],
      "source": [
        "# Read the CSV file with ad spend and revenue.\n",
        "url = 'http://bit.ly/ad_spend'\n",
        "df_ads = pd.read_csv(url)"
      ]
    },
    {
      "cell_type": "code",
      "execution_count": null,
      "metadata": {
        "colab": {
          "base_uri": "https://localhost:8080/",
          "height": 206
        },
        "id": "AyGwAVROrmrd",
        "outputId": "46e6dcc1-ed55-49ce-9c8b-eb02fa57403e"
      },
      "outputs": [],
      "source": [
        "# Preview the first few records in the data.\n",
        "df_ads.head(5)"
      ]
    },
    {
      "cell_type": "code",
      "execution_count": null,
      "metadata": {
        "colab": {
          "base_uri": "https://localhost:8080/",
          "height": 458
        },
        "id": "rqbCpzw_r56C",
        "outputId": "a5922ef6-4b24-41ed-eb53-0781cb07eea8"
      },
      "outputs": [],
      "source": [
        "# SCATTER PLOTS.\n",
        "sns.scatterplot(x=\"TV\", y=\"sales\", data=df_ads);\n",
        "# sns.scatterplot(x=\"TV\", y=\"sales\", size=\"radio\", data=df_ads);\n",
        "# sns.scatterplot(x=\"TV\", y=\"sales\", size=\"radio\", hue=\"radio\", data=df_ads);\n",
        "# sns.scatterplot(x=\"TV\", y=\"sales\", size=\"newspaper\", hue=\"newspaper\", data=df_ads);"
      ]
    },
    {
      "cell_type": "code",
      "execution_count": null,
      "metadata": {
        "colab": {
          "base_uri": "https://localhost:8080/",
          "height": 510
        },
        "id": "_McYYIX-slNl",
        "outputId": "d094c3e1-3aa7-4064-d737-a1cdf0662dc4"
      },
      "outputs": [],
      "source": [
        "# PAIR PLOTS.\n",
        "sns.pairplot(df_ads);\n",
        "# sns.pairplot(df_ads.iloc[:, [1,2]]);"
      ]
    }
  ],
  "metadata": {
    "colab": {
      "provenance": []
    },
    "kernelspec": {
      "display_name": "Python 3",
      "name": "python3"
    },
    "language_info": {
      "name": "python"
    }
  },
  "nbformat": 4,
  "nbformat_minor": 0
}
