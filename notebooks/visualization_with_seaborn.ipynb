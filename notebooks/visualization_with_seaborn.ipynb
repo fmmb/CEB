{
  "cells": [
    {
      "cell_type": "markdown",
      "metadata": {
        "id": "Djenlnlb0V0V"
      },
      "source": [
        "# Seaborn Visualization\n",
        "\n",
        "Seaborn is a Python data visualization library based on matplotlib that makes statistical data visualization easier and more visually appealing. The official documentation can be found [here](https://seaborn.pydata.org/index.html)."
      ]
    },
    {
      "cell_type": "code",
      "execution_count": null,
      "metadata": {
        "id": "jUI_vh9z7_DT"
      },
      "outputs": [],
      "source": [
        "# Load the appropriate Python libraries.\n",
        "import pandas as pd\n",
        "import matplotlib.pyplot as plt\n",
        "import seaborn as sns\n",
        "import numpy as np"
      ]
    },
    {
      "cell_type": "code",
      "execution_count": null,
      "metadata": {
        "id": "tuqOUHLQ72e0"
      },
      "outputs": [],
      "source": [
        "# Read the CSV file with customer churn data.\n",
        "url = 'http://bit.ly/comm_churn'\n",
        "df_churn = pd.read_csv(url)"
      ]
    },
    {
      "cell_type": "code",
      "execution_count": null,
      "metadata": {
        "id": "nR_oKX2H8P7d"
      },
      "outputs": [],
      "source": [
        "# Preview the first few records in the data.\n",
        "df_churn.head(5)"
      ]
    },
    {
      "cell_type": "markdown",
      "metadata": {
        "id": "wrPutClX4ny8"
      },
      "source": [
        "## Themes and Aesthetics\n",
        "\n",
        "One of Seaborn's biggest advantages is its built-in aesthetics, which make visualizations look polished right out of the box. We can easily switch between different themes to customize the look and feel of our plots."
      ]
    },
    {
      "cell_type": "markdown",
      "metadata": {
        "id": "sEbc0IIk6KbV"
      },
      "source": [
        "Comparison between Matplotlib and Seaborn aesthetics"
      ]
    },
    {
      "cell_type": "code",
      "execution_count": null,
      "metadata": {
        "id": "ed0VfCh96IAd"
      },
      "outputs": [],
      "source": [
        "data = np.random.randn(1000)\n",
        "\n",
        "# Matplotlib\n",
        "plt.hist(data, bins=30)\n",
        "plt.title(\"Matplotlib Histogram\")\n",
        "plt.show()\n",
        "\n",
        "# Seaborn\n",
        "sns.histplot(data, bins=30, kde=True)\n",
        "plt.title(\"Seaborn Histogram\")\n",
        "plt.show()"
      ]
    },
    {
      "cell_type": "markdown",
      "metadata": {
        "id": "wxOar3WR6Y4o"
      },
      "source": [
        "Different seaborn themes"
      ]
    },
    {
      "cell_type": "code",
      "execution_count": null,
      "metadata": {
        "id": "Qt052yYj5MZQ"
      },
      "outputs": [],
      "source": [
        "data = np.random.randn(100)\n",
        "\n",
        "# Different themes\n",
        "themes = [\"darkgrid\", \"whitegrid\", \"dark\", \"white\", \"ticks\"]\n",
        "\n",
        "for theme in themes:\n",
        "    sns.set_theme(style=theme)\n",
        "    plt.figure()\n",
        "    sns.histplot(data, kde=True)\n",
        "    plt.title(f\"Seaborn Theme: {theme}\")\n",
        "    plt.show()"
      ]
    },
    {
      "cell_type": "markdown",
      "metadata": {
        "id": "pSZOQjv45kei"
      },
      "source": [
        "And we can set a theme to be used in the entire notebook"
      ]
    },
    {
      "cell_type": "code",
      "execution_count": null,
      "metadata": {
        "id": "Ezd1KrR05n9b"
      },
      "outputs": [],
      "source": [
        "sns.set_theme(style=\"darkgrid\")"
      ]
    },
    {
      "cell_type": "markdown",
      "metadata": {
        "id": "0ni5p2xu6hTY"
      },
      "source": [
        "## Simplified complex plots"
      ]
    },
    {
      "cell_type": "markdown",
      "source": [
        "Distribuition plots"
      ],
      "metadata": {
        "id": "SUbNquB6PXnY"
      }
    },
    {
      "cell_type": "code",
      "execution_count": null,
      "metadata": {
        "id": "V94u42nn9RHW"
      },
      "outputs": [],
      "source": [
        "sns.displot(df_churn, x=\"monthly_charges\");\n",
        "# sns.displot(df_churn, x=\"monthly_charges\", kind=\"kde\");\n",
        "# sns.displot(df_churn, x=\"monthly_charges\", kind=\"kde\", fill=True);\n",
        "# sns.displot(df_churn, x=\"monthly_charges\", hue=\"internet_service\");\n",
        "# sns.displot(df_churn, x=\"monthly_charges\", hue=\"internet_service\", kind=\"kde\", fill=True);"
      ]
    },
    {
      "cell_type": "markdown",
      "source": [
        "Count plots"
      ],
      "metadata": {
        "id": "1MLhpah9PZXd"
      }
    },
    {
      "cell_type": "code",
      "execution_count": null,
      "metadata": {
        "id": "CdWnOJul8kAl"
      },
      "outputs": [],
      "source": [
        "sns.countplot(x=\"contract_type\", data=df_churn);\n",
        "# sns.countplot(x=\"contract_type\", hue=\"churn\", data=df_churn);\n",
        "# sns.countplot(y=\"contract_type\", hue=\"churn\", data=df_churn);\n",
        "# sns.countplot(y=\"contract_type\", hue=\"churn\", palette=\"Set2\", data=df_churn);"
      ]
    },
    {
      "cell_type": "markdown",
      "source": [
        "Box plots"
      ],
      "metadata": {
        "id": "K9RRkVGoPa1K"
      }
    },
    {
      "cell_type": "code",
      "execution_count": null,
      "metadata": {
        "id": "fu3cAdlCAR-M"
      },
      "outputs": [],
      "source": [
        "sns.boxplot(x=\"payment_method\", y=\"monthly_charges\", data=df_churn);\n",
        "# sns.violinplot(x=\"payment_method\", y=\"monthly_charges\", data=df_churn);\n",
        "# sns.boxplot(x=\"phone_service\", y=\"monthly_charges\", data=df_churn);\n",
        "# sns.boxplot(x=\"phone_service\", y=\"monthly_charges\", hue=\"senior_citizen\", data=df_churn);"
      ]
    },
    {
      "cell_type": "code",
      "execution_count": null,
      "metadata": {
        "id": "Gi_QIXIjrhRg"
      },
      "outputs": [],
      "source": [
        "# Read the CSV file with ad spend and revenue.\n",
        "url = 'http://bit.ly/ad_spend'\n",
        "df_ads = pd.read_csv(url)"
      ]
    },
    {
      "cell_type": "code",
      "execution_count": null,
      "metadata": {
        "id": "AyGwAVROrmrd"
      },
      "outputs": [],
      "source": [
        "# Preview the first few records in the data.\n",
        "df_ads.head(5)"
      ]
    },
    {
      "cell_type": "markdown",
      "source": [
        "Scatter plots"
      ],
      "metadata": {
        "id": "LsOcS8ePPcSE"
      }
    },
    {
      "cell_type": "code",
      "execution_count": null,
      "metadata": {
        "id": "rqbCpzw_r56C"
      },
      "outputs": [],
      "source": [
        "sns.scatterplot(x=\"TV\", y=\"sales\", data=df_ads);\n",
        "# sns.scatterplot(x=\"TV\", y=\"sales\", size=\"radio\", data=df_ads);\n",
        "# sns.scatterplot(x=\"TV\", y=\"sales\", size=\"radio\", hue=\"radio\", data=df_ads);\n",
        "# sns.scatterplot(x=\"TV\", y=\"sales\", size=\"newspaper\", hue=\"newspaper\", data=df_ads);"
      ]
    },
    {
      "cell_type": "markdown",
      "source": [
        "Pair plots"
      ],
      "metadata": {
        "id": "ju2KYfa2PeJY"
      }
    },
    {
      "cell_type": "code",
      "execution_count": null,
      "metadata": {
        "id": "_McYYIX-slNl"
      },
      "outputs": [],
      "source": [
        "sns.pairplot(df_ads);\n",
        "# sns.pairplot(df_ads.iloc[:, [1,2]]);"
      ]
    },
    {
      "cell_type": "markdown",
      "source": [
        "## Used with matplotlib"
      ],
      "metadata": {
        "id": "M7mN-me1LpXs"
      }
    },
    {
      "cell_type": "code",
      "source": [
        "x = np.linspace(0, 10, 100)\n",
        "y1 = np.sin(x)\n",
        "y2 = np.cos(x)\n",
        "\n",
        "# Create a Matplotlib figure\n",
        "plt.figure(figsize=(8, 5))\n",
        "\n",
        "# Use Matplotlib to plot a background grid\n",
        "plt.grid(True, linestyle=\"--\", alpha=0.5)\n",
        "\n",
        "# Use Seaborn to plot smooth lines on top\n",
        "sns.lineplot(x=x, y=y1, label=\"Sine Wave\", color=\"blue\")\n",
        "sns.lineplot(x=x, y=y2, label=\"Cosine Wave\", color=\"red\")\n",
        "\n",
        "# Add Matplotlib elements\n",
        "plt.title(\"Seaborn on Top of Matplotlib\", fontsize=14)\n",
        "plt.xlabel(\"X Axis (Time)\")\n",
        "plt.ylabel(\"Y Axis (Amplitude)\")\n",
        "plt.legend()\n",
        "plt.show()"
      ],
      "metadata": {
        "id": "o2VNJwIXNBdV"
      },
      "execution_count": null,
      "outputs": []
    }
  ],
  "metadata": {
    "colab": {
      "provenance": []
    },
    "kernelspec": {
      "display_name": "Python 3",
      "name": "python3"
    },
    "language_info": {
      "name": "python"
    }
  },
  "nbformat": 4,
  "nbformat_minor": 0
}