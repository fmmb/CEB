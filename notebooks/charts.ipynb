{
  "cells": [
    {
      "cell_type": "markdown",
      "metadata": {
        "id": "7z5IvHkDHz43"
      },
      "source": [
        "# Charts"
      ]
    },
    {
      "cell_type": "code",
      "execution_count": null,
      "metadata": {
        "id": "mOpeLY8QHz46"
      },
      "outputs": [],
      "source": [
        "import numpy as np\n",
        "import pandas as pd\n",
        "df = pd.read_csv(\"IMDB-Movie-Data.csv\", index_col=\"Title\")"
      ]
    },
    {
      "cell_type": "code",
      "execution_count": null,
      "metadata": {
        "id": "8BSYx87eHz47"
      },
      "outputs": [],
      "source": [
        "df.head(5)"
      ]
    },
    {
      "cell_type": "code",
      "execution_count": null,
      "metadata": {
        "id": "QWJQ_6wQHz47"
      },
      "outputs": [],
      "source": [
        "df[\"Genre\"] = df[\"Genre\"].str.split(\",\")"
      ]
    },
    {
      "cell_type": "code",
      "execution_count": null,
      "metadata": {
        "id": "oTBGy4fuHz47"
      },
      "outputs": [],
      "source": [
        "df = df.explode(\"Genre\")"
      ]
    },
    {
      "cell_type": "code",
      "execution_count": null,
      "metadata": {
        "id": "A59oA6bHHz48"
      },
      "outputs": [],
      "source": [
        "df.head()"
      ]
    },
    {
      "cell_type": "code",
      "execution_count": null,
      "metadata": {
        "id": "gzebbYD3Hz48"
      },
      "outputs": [],
      "source": [
        "mydata = df[ df[\"Genre\"].isin([\"Action\",\"Adventure\", \"Sci-Fi\"])]"
      ]
    },
    {
      "cell_type": "code",
      "execution_count": null,
      "metadata": {
        "id": "NHPM-9-rHz48"
      },
      "outputs": [],
      "source": [
        "votes = mydata.pivot_table('Votes', index='Year', columns='Genre', aggfunc='sum')\n",
        "votes"
      ]
    },
    {
      "cell_type": "code",
      "execution_count": null,
      "metadata": {
        "id": "oFijMgb5Hz49"
      },
      "outputs": [],
      "source": [
        "%matplotlib inline\n",
        "import matplotlib.pyplot as plt\n",
        "import seaborn as sns\n",
        "sns.set()  # use Seaborn styles"
      ]
    },
    {
      "cell_type": "code",
      "execution_count": null,
      "metadata": {
        "id": "EUv8pRnRHz49"
      },
      "outputs": [],
      "source": [
        "votes.plot(kind=\"bar\");\n",
        "plt.ylabel('Ratings by Genre by Year');"
      ]
    },
    {
      "cell_type": "code",
      "execution_count": null,
      "metadata": {
        "id": "HK-pSqwuHz49"
      },
      "outputs": [],
      "source": [
        "votes.plot(figsize=(10,4), kind=\"line\");\n",
        "plt.ylabel('Ratings by Genre by Year');\n",
        "plt.legend(ncol=2, loc='upper left');"
      ]
    },
    {
      "cell_type": "markdown",
      "metadata": {
        "id": "9TtHJasYHz49"
      },
      "source": [
        "The same result can be achieved using `plt.plot()`"
      ]
    },
    {
      "cell_type": "code",
      "execution_count": null,
      "metadata": {
        "id": "fHZx3PycHz4-"
      },
      "outputs": [],
      "source": [
        "plt.figure(figsize=(10,4))\n",
        "plt.plot(votes)\n",
        "plt.legend(votes.columns, ncol=2, loc='upper left')\n",
        "plt.xticks(rotation = 90)\n",
        "plt.ylabel('Ratings by Genre by Year');"
      ]
    },
    {
      "cell_type": "markdown",
      "metadata": {
        "id": "CXYHrMEgHz4-"
      },
      "source": [
        "histogram ..."
      ]
    },
    {
      "cell_type": "code",
      "execution_count": null,
      "metadata": {
        "id": "Y_dCNLUKHz4-"
      },
      "outputs": [],
      "source": [
        "plt.hist(df[df[\"Year\"]==2015][\"Rating\"], alpha=0.5)\n",
        "plt.hist(df[df[\"Year\"]==2013][\"Rating\"], alpha=0.5);"
      ]
    },
    {
      "cell_type": "markdown",
      "metadata": {
        "id": "XqxVjx_WHz4-"
      },
      "source": [
        "### seaborn.kdeplot\n",
        "Rather than a histogram, we can get a smooth estimate of the distribution using a kernel density estimation, which Seaborn does with `sns.kdeplot`. For additional information check [seaborn.kdeplot](https://seaborn.pydata.org/generated/seaborn.kdeplot.html)"
      ]
    },
    {
      "cell_type": "code",
      "execution_count": null,
      "metadata": {
        "id": "GzBWtVRJHz4-"
      },
      "outputs": [],
      "source": [
        "df.reset_index(inplace=True)\n",
        "df.head()"
      ]
    },
    {
      "cell_type": "code",
      "execution_count": null,
      "metadata": {
        "id": "aFnVm5TzHz4-"
      },
      "outputs": [],
      "source": [
        "sns.kdeplot(df[df[\"Year\"]==2015][\"Rating\"], fill=True)\n",
        "sns.kdeplot(df[df[\"Year\"]==2013][\"Rating\"], fill=True);"
      ]
    },
    {
      "cell_type": "code",
      "execution_count": null,
      "metadata": {
        "id": "8mlyBAfFHz4-"
      },
      "outputs": [],
      "source": [
        "plt.figure(figsize=(12,8))\n",
        "sns.kdeplot(data=df, x=\"Year\", hue=\"Genre\");"
      ]
    },
    {
      "cell_type": "markdown",
      "metadata": {
        "id": "lOWEMdjdHz4-"
      },
      "source": [
        "## seaborn.catplot\n",
        "This function provides access to several axes-level functions that show the relationship between a numerical and one or more categorical variables using one of several visual representations.\n",
        "Check [seaborn.catplot](https://seaborn.pydata.org/generated/seaborn.catplot.html) for additional info"
      ]
    },
    {
      "cell_type": "code",
      "execution_count": null,
      "metadata": {
        "id": "UzHPG-0fHz4_"
      },
      "outputs": [],
      "source": [
        "sns.catplot(data=df, x=\"Year\", kind=\"count\", aspect=2, color='steelblue');"
      ]
    },
    {
      "cell_type": "code",
      "execution_count": null,
      "metadata": {
        "id": "C8yY0RJ5Hz4_"
      },
      "outputs": [],
      "source": [
        "sns.catplot(data=df, x=\"Year\", y=\"Rating\", aspect=2);"
      ]
    },
    {
      "cell_type": "code",
      "execution_count": null,
      "metadata": {
        "id": "qLyvU4oSHz4_"
      },
      "outputs": [],
      "source": [
        "sns.catplot(data=df, x=\"Year\", y=\"Rating\", hue=\"Genre\", aspect=2);"
      ]
    },
    {
      "cell_type": "markdown",
      "metadata": {
        "id": "Je0Vy-wJHz4_"
      },
      "source": [
        "For additional examples, check [seaborn: statistical data visualization](https://seaborn.pydata.org/index.html)\n",
        "and [Visualization with Seaborn](https://jakevdp.github.io/PythonDataScienceHandbook/04.14-visualization-with-seaborn.html)\n",
        "    "
      ]
    }
  ],
  "metadata": {
    "kernelspec": {
      "display_name": "Python 3",
      "language": "python",
      "name": "python3"
    },
    "language_info": {
      "codemirror_mode": {
        "name": "ipython",
        "version": 3
      },
      "file_extension": ".py",
      "mimetype": "text/x-python",
      "name": "python",
      "nbconvert_exporter": "python",
      "pygments_lexer": "ipython3",
      "version": "3.8.10"
    },
    "colab": {
      "provenance": []
    }
  },
  "nbformat": 4,
  "nbformat_minor": 0
}