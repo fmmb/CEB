{
 "cells": [
  {
   "cell_type": "markdown",
   "metadata": {},
   "source": [
    "# Introduction to Matplotlib\n",
    "\n",
    "\n",
    "**Matplotlib** is the basic plotting library of Python programming language. It is the most prominent tool among Python visualization packages. Matplotlib is highly efficient in performing wide range of tasks. It can produce publication quality figures in a variety of formats.  It can export visualizations to all of the common formats like PDF, SVG, JPG, PNG, BMP and GIF. It can create popular visualization types – line plot, scatter plot, histogram, bar chart, error charts, pie chart, box plot, and many more types of plot. Matplotlib also supports 3D plotting. Many Python libraries are built on top of Matplotlib. For example, pandas and Seaborn are built on Matplotlib. They allow to access Matplotlib’s methods with less code. \n",
    "\n",
    "\n",
    "The project **Matplotlib** was started by John Hunter in 2002. Matplotlib was originally started to visualize Electrocorticography (ECoG) data of epilepsy patients during post-doctoral research in Neurobiology. The open-source tool Matplotlib emerged as the most widely used plotting library for the Python programming language. It was used for data visualization during landing of the Phoenix spacecraft in 2008.\n"
   ]
  },
  {
   "cell_type": "code",
   "execution_count": null,
   "metadata": {},
   "outputs": [],
   "source": [
    "# Import dependencies\n",
    "import numpy as np\n",
    "import pandas as pd\n",
    "import seaborn as sn\n",
    "import matplotlib.pyplot as plt "
   ]
  },
  {
   "cell_type": "markdown",
   "metadata": {},
   "source": [
    "### Plotting from a Jupyter notebook\n",
    "\n",
    "Interactive plotting within a Jupyter Notebook can be done with the **%matplotlib** command. There are two possible options to work with graphics in Jupyter Notebook. These are as follows:-\n",
    "\n",
    "\n",
    "•\t**%matplotlib notebook** – This command will produce interactive plots embedded within the notebook.\n",
    "\n",
    "•\t**%matplotlib inline** – It will output static images of the plot embedded in the notebook.\n",
    "\n",
    "\n",
    "After this command (it needs to be done only once per kernel per session), any cell within the notebook that creates a plot will embed a PNG image of the graphic.\n"
   ]
  },
  {
   "cell_type": "code",
   "execution_count": null,
   "metadata": {},
   "outputs": [],
   "source": [
    "%matplotlib inline\n",
    "\n",
    "x1 = np.linspace(0, 10, 100)\n",
    "\n",
    "# create a plot figure\n",
    "fig = plt.figure()\n",
    "\n",
    "plt.plot(x1, np.sin(x1), '-')\n",
    "plt.plot(x1, np.cos(x1), '--');"
   ]
  },
  {
   "cell_type": "markdown",
   "metadata": {},
   "source": [
    "### Matplotlib Object Hierarchy\n",
    "\n",
    "\n",
    "There is an Object Hierarchy within Matplotlib. In Matplotlib, a plot is a hierarchy of nested Python objects. \n",
    "A **hierarchy** means that there is a tree-like structure of Matplotlib objects underlying each plot.\n",
    "\n",
    "\n",
    "A **Figure** object is the outermost container for a Matplotlib plot. The **Figure** object contain multiple **Axes** objects. So, the **Figure** is the final graphic that may contain one or more **Axes**. The **Axes** represent an individual plot.\n",
    "\n",
    "\n",
    "So, we can think of the **Figure** object as a box-like container containing one or more **Axes**. The **Axes** object contain smaller objects such as tick marks, lines, legends, title and text-boxes.\n",
    "\n",
    "\n",
    "![matplotlib_Anatomy](https://raw.githubusercontent.com/fmmb/CEB/main/notebooks/images/matplotlib_anatomy.png)"
   ]
  },
  {
   "cell_type": "markdown",
   "metadata": {},
   "source": [
    "# Matplotlib API Overview\n",
    "\n",
    "\n",
    "\n",
    "Matplotlib has two APIs to work with. A MATLAB-style state-based interface and a more powerful object-oriented (OO) interface. \n",
    "The former MATLAB-style state-based interface is called **pyplot interface** and the latter is called **Object-Oriented** interface.\n"
   ]
  },
  {
   "cell_type": "markdown",
   "metadata": {},
   "source": [
    "## Pyplot API \n",
    "\n",
    "\n",
    "**Matplotlib.pyplot** provides a MATLAB-style, procedural, state-machine interface to the underlying object-oriented library in Matplotlib. Each pyplot function makes some change to a figure - e.g., creates a figure, creates a plotting area in a figure etc. \n",
    "\n",
    "**Matplotlib.pyplot** is stateful because the underlying engine keeps track of the current figure and plotting area information and plotting functions change that information. To make it clearer, we did not use any object references during our plotting we just issued a pyplot command, and the changes appeared in the figure.\n",
    "\n",
    "This is really helpful for interactive plotting, because we can issue a command and see the result immediately. But, it is not suitable for more complicated cases.\n"
   ]
  },
  {
   "cell_type": "markdown",
   "metadata": {},
   "source": [
    "The following code produces sine and cosine curves using Pyplot API."
   ]
  },
  {
   "cell_type": "code",
   "execution_count": null,
   "metadata": {},
   "outputs": [],
   "source": [
    "# create a plot figure\n",
    "plt.figure()\n",
    "\n",
    "\n",
    "# create the first of two panels and set current axis\n",
    "plt.subplot(2, 1, 1)   # (rows, columns, panel number)\n",
    "plt.plot(x1, np.sin(x1))\n",
    "\n",
    "\n",
    "# create the second of two panels and set current axis\n",
    "plt.subplot(2, 1, 2)   # (rows, columns, panel number)\n",
    "plt.plot(x1, np.cos(x1));\n"
   ]
  },
  {
   "cell_type": "markdown",
   "metadata": {},
   "source": [
    "### plot() - A versatile command\n",
    "\n",
    "\n",
    "**plot()** is a versatile command. It will take an arbitrary number of arguments. For example, to plot x versus y, \n",
    "we can issue the following command:-"
   ]
  },
  {
   "cell_type": "code",
   "execution_count": null,
   "metadata": {},
   "outputs": [],
   "source": [
    "plt.plot([1, 2, 3, 4], [1, 4, 9, 16])\n",
    "plt.show()"
   ]
  },
  {
   "cell_type": "markdown",
   "metadata": {},
   "source": [
    "### State-machine interface\n",
    "\n",
    "Pyplot provides the state-machine interface to the underlying object-oriented plotting library. The state-machine implicitly and automatically creates figures and axes to achieve the desired plot. For example:"
   ]
  },
  {
   "cell_type": "code",
   "execution_count": null,
   "metadata": {},
   "outputs": [],
   "source": [
    "x = np.linspace(0, 2, 100)\n",
    "\n",
    "plt.plot(x, x, label='linear')\n",
    "plt.plot(x, x**2, label='quadratic')\n",
    "plt.plot(x, x**3, label='cubic')\n",
    "\n",
    "plt.xlabel('x label')\n",
    "plt.ylabel('y label')\n",
    "\n",
    "plt.title(\"Simple Plot\")\n",
    "\n",
    "plt.legend()\n",
    "\n",
    "plt.show()"
   ]
  },
  {
   "cell_type": "markdown",
   "metadata": {},
   "source": [
    "### Formatting the style of plot\n",
    "\n",
    "\n",
    "For every x, y pair of arguments, there is an optional third argument which is the format string that indicates the color and line type of the plot. We can concatenate a color string with a line style string. The default format string is 'b-', which is a solid blue line. For example, to plot the above line with red circles, we would issue the following command:"
   ]
  },
  {
   "cell_type": "code",
   "execution_count": null,
   "metadata": {},
   "outputs": [],
   "source": [
    "plt.plot([1, 2, 3, 4], [1, 4, 9, 16], 'ro')\n",
    "plt.axis([0, 6, 0, 20])\n",
    "plt.show()"
   ]
  },
  {
   "cell_type": "markdown",
   "metadata": {},
   "source": [
    "The **axis()** command in the example above takes a list of [xmin, xmax, ymin, ymax] and specifies the viewport of the axes."
   ]
  },
  {
   "cell_type": "code",
   "execution_count": null,
   "metadata": {},
   "outputs": [],
   "source": [
    "t = np.arange(0., 5., 0.2)\n",
    "\n",
    "# red dashes, blue squares and green triangles\n",
    "plt.plot(t, t, 'r--', t, t**2, 'bs', t, t**3, 'g^')\n",
    "plt.show()"
   ]
  },
  {
   "cell_type": "markdown",
   "metadata": {},
   "source": [
    "## Object-Oriented API\n",
    "\n",
    "\n",
    "The **Object-Oriented API** is available for more complex plotting situations. It allows us to exercise more control over the figure. In Pyplot API, we depend on some notion of an \"active\" figure or axes. But, in the **Object-Oriented API** the plotting functions are methods of explicit Figure and Axes objects."
   ]
  },
  {
   "cell_type": "markdown",
   "metadata": {},
   "source": [
    "The following code produces sine and cosine curves using Object-Oriented API."
   ]
  },
  {
   "cell_type": "code",
   "execution_count": null,
   "metadata": {},
   "outputs": [],
   "source": [
    "# First create a grid of plots\n",
    "# ax will be an array of two Axes objects\n",
    "fig, ax = plt.subplots(2)\n",
    "\n",
    "\n",
    "# Call plot() method on the appropriate object\n",
    "ax[0].plot(x1, np.sin(x1), 'b-')\n",
    "ax[1].plot(x1, np.cos(x1), 'b-');\n"
   ]
  },
  {
   "cell_type": "markdown",
   "metadata": {},
   "source": [
    "### Objects and Reference\n",
    "\n",
    "\n",
    "The main idea with the **Object Oriented API** is to have objects that one can apply functions and actions on. The real advantage of this approach becomes apparent when more than one figure is created or when a figure contains more than one \n",
    "subplot.\n",
    "\n",
    "\n",
    "We create a reference to the figure instance in the **fig** variable. Then, we ceate a new axis instance **axes** using the \n",
    "**add_axes** method in the Figure class instance fig as follows:"
   ]
  },
  {
   "cell_type": "code",
   "execution_count": null,
   "metadata": {},
   "outputs": [],
   "source": [
    "fig = plt.figure()\n",
    "\n",
    "x2 = np.linspace(0, 5, 10)\n",
    "y2 = x2 ** 2\n",
    "\n",
    "axes = fig.add_axes([0.1, 0.1, 0.8, 0.8])\n",
    "\n",
    "axes.plot(x2, y2, 'r')\n",
    "\n",
    "axes.set_xlabel('x2')\n",
    "axes.set_ylabel('y2')\n",
    "axes.set_title('title');"
   ]
  },
  {
   "cell_type": "markdown",
   "metadata": {},
   "source": [
    "# Figure and Subplots\n",
    "\n",
    "\n",
    "\n",
    "Plots in Matplotlib reside within a Figure object. As described earlier, we can create a new figure with plt.figure() \n",
    "as follows:-\n",
    "\n",
    "\n",
    "`fig = plt.figure()`\n",
    "\n",
    "\n",
    "Now, I create one or more subplots using fig.add_subplot() as follows:-\n",
    "\n",
    "\n",
    "`ax1 = fig.add_subplot(2, 2, 1)`\n",
    "\n",
    "\n",
    "The above command means that there are four plots in total (2 * 2 = 4). I select the first of four subplots (numbered from 1).\n",
    "\n",
    "\n",
    "I create the next three subplots using the fig.add_subplot() commands as follows:-\n",
    "\n",
    "\n",
    "`ax2 = fig.add_subplot(2, 2, 2)`\n",
    "\n",
    "`ax3 = fig.add_subplot(2, 2, 3)`\n",
    "\n",
    "`ax4 = fig.add_subplot(2, 2, 4)`"
   ]
  },
  {
   "attachments": {
    "Subplots.png": {
     "image/png": "[encoded data removed]"
    }
   },
   "cell_type": "markdown",
   "metadata": {},
   "source": [
    "The above command result in creation of subplots. The diagrammatic representation of subplots are as follows:-\n",
    "\n",
    "\n",
    "![Subplots.png](attachment:Subplots.png)"
   ]
  },
  {
   "cell_type": "markdown",
   "metadata": {},
   "source": [
    "# Example plots with Matplotlib\n",
    "\n",
    "\n",
    "Now, we will start seeing different types of plots we can create."
   ]
  },
  {
   "cell_type": "code",
   "execution_count": null,
   "metadata": {},
   "outputs": [],
   "source": [
    "titanic = sn.load_dataset('titanic')\n",
    "titanic"
   ]
  },
  {
   "cell_type": "markdown",
   "metadata": {},
   "source": [
    "## Line Plot\n",
    "\n",
    "\n",
    "We can use the following commands to draw the simple sinusoid line plot:-\n",
    "\n"
   ]
  },
  {
   "cell_type": "code",
   "execution_count": null,
   "metadata": {},
   "outputs": [],
   "source": [
    "# Create figure and axes first\n",
    "fig = plt.figure()\n",
    "ax = plt.axes()\n",
    "\n",
    "# Declare a variable x5\n",
    "x3 = np.linspace(0, 10, 1000)\n",
    "\n",
    "# Plot the sinusoid function\n",
    "ax.plot(x3, 'b-');"
   ]
  },
  {
   "cell_type": "markdown",
   "metadata": {},
   "source": [
    "## Multiline Plots\n",
    "\n",
    "Multiline Plots mean plotting more than one plot on the same figure.\n",
    "It can be achieved by plotting all the lines before calling show(). It can be done as follows:-\n"
   ]
  },
  {
   "cell_type": "code",
   "execution_count": null,
   "metadata": {},
   "outputs": [],
   "source": [
    "x4 = range(1, 5)\n",
    "\n",
    "plt.plot(x4, [xi*1.5 for xi in x4])\n",
    "plt.plot(x4, [xi*3 for xi in x4])\n",
    "plt.plot(x4, [xi/3.0 for xi in x4])\n",
    "\n",
    "plt.show()"
   ]
  },
  {
   "cell_type": "markdown",
   "metadata": {},
   "source": [
    "## Scatter Plot\n",
    "\n",
    "Another commonly used plot type is the scatter plot. Here the points are represented individually with a dot or a circle."
   ]
  },
  {
   "cell_type": "code",
   "execution_count": null,
   "metadata": {},
   "outputs": [],
   "source": [
    "x5 = np.linspace(0, 10, 30)\n",
    "y5 = np.sin(x5)\n",
    "\n",
    "plt.plot(x5, y5, 'o', color = 'black');"
   ]
  },
  {
   "cell_type": "markdown",
   "metadata": {},
   "source": [
    "## Histogram\n",
    "\n",
    "\n",
    "Histogram charts are a graphical display of frequencies. They are represented as bars. They show what portion of the \n",
    "dataset falls into each category, usually specified as non-overlapping intervals. These categories are called bins.\n",
    "\n",
    "The **plt.hist()** function can be used to plot a simple histogram as follows:-\n"
   ]
  },
  {
   "cell_type": "code",
   "execution_count": null,
   "metadata": {},
   "outputs": [],
   "source": [
    "# using a series object (DataFrame column)\n",
    "data1 = titanic['age']\n",
    "\n",
    "plt.hist(data1); "
   ]
  },
  {
   "cell_type": "markdown",
   "metadata": {},
   "source": [
    "## Bar Chart\n",
    "\n",
    "\n",
    "Bar charts display rectangular bars either in vertical or horizontal form. Their length is proportional to the values they represent. They are used to compare two or more values.\n",
    "\n",
    "\n",
    "We can plot a bar chart using plt.bar() function. We can plot a bar chart as follows:-\n"
   ]
  },
  {
   "cell_type": "code",
   "execution_count": null,
   "metadata": {},
   "outputs": [],
   "source": [
    "titanic"
   ]
  },
  {
   "cell_type": "code",
   "execution_count": null,
   "metadata": {},
   "outputs": [],
   "source": [
    "data2 = titanic.groupby('pclass')['age'].mean()\n",
    "\n",
    "plt.bar(range(len(data2)), data2)\n",
    "\n",
    "plt.xticks(range(len(data2)), data2.index)\n",
    "\n",
    "plt.show()"
   ]
  },
  {
   "cell_type": "markdown",
   "metadata": {},
   "source": [
    "## Horizontal Bar Chart\n",
    "\n",
    "\n",
    "We can produce Horizontal Bar Chart using the plt.barh() function. It is the strict equivalent of plt.bar() function.\n",
    "\n"
   ]
  },
  {
   "cell_type": "code",
   "execution_count": null,
   "metadata": {},
   "outputs": [],
   "source": [
    "plt.barh(range(len(data2)), data2)\n",
    "plt.show() "
   ]
  },
  {
   "cell_type": "markdown",
   "metadata": {},
   "source": [
    "## Stacked Bar Chart\n",
    "\n",
    "\n",
    "We can draw stacked bar chart by using a special parameter called **bottom** from the plt.bar() function. It can be done as follows:- "
   ]
  },
  {
   "cell_type": "code",
   "execution_count": null,
   "metadata": {},
   "outputs": [],
   "source": [
    "A = titanic.groupby(['sex', 'pclass'])['age'].count()['female']\n",
    "B = titanic.groupby(['sex', 'pclass'])['age'].count()['male']\n",
    "\n",
    "z1 = range(3)\n",
    "\n",
    "plt.bar(z1, A, color = 'b', label = 'female')\n",
    "plt.bar(z1, B, color = 'r', bottom = A, label='male')\n",
    "\n",
    "plt.xticks(z1, B.index)\n",
    "\n",
    "plt.legend()\n",
    "\n",
    "plt.show()"
   ]
  },
  {
   "cell_type": "markdown",
   "metadata": {},
   "source": [
    "The optional **bottom** parameter of the plt.bar() function allows us to specify a starting position for a bar. Instead of running from zero to a value, it will go from the bottom to value. The first call to plt.bar() plots the blue bars. The second call to plt.bar() plots the red bars, with the bottom of the red bars being at the top of the blue bars."
   ]
  },
  {
   "cell_type": "markdown",
   "metadata": {},
   "source": [
    "## Boxplot\n",
    "\n",
    "\n",
    "Boxplot allows us to compare distributions of values by showing the median, quartiles, maximum and minimum of a set of values.\n",
    "\n",
    "We can plot a boxplot with the **boxplot()** function as follows:-"
   ]
  },
  {
   "cell_type": "code",
   "execution_count": null,
   "metadata": {},
   "outputs": [],
   "source": [
    "#data3 = titanic['fare']\n",
    "data3 = titanic['age'].fillna(titanic['age'].mean())\n",
    "\n",
    "plt.boxplot(data3)\n",
    "\n",
    "plt.show();"
   ]
  },
  {
   "cell_type": "markdown",
   "metadata": {},
   "source": [
    "The **boxplot()** function takes a set of values and computes the mean, median and other statistical quantities. The following points describe the preceeding boxplot:"
   ]
  },
  {
   "cell_type": "markdown",
   "metadata": {},
   "source": [
    "## Styles with Matplotlib Plots\n",
    "\n",
    "\n",
    "The Matplotlib version 1.4 which was released in August 2014 added a very convenient `style` module. It includes a number of \n",
    "new default stylesheets, as well as the ability to create and package own styles."
   ]
  },
  {
   "cell_type": "code",
   "execution_count": null,
   "metadata": {},
   "outputs": [],
   "source": [
    "# View list of all available styles\n",
    "print(plt.style.available)"
   ]
  },
  {
   "cell_type": "markdown",
   "metadata": {},
   "source": [
    "We can set the **Styles** for Matplotlib plots as follows:-\n",
    "\n",
    "\n",
    "`plt.style.use('seaborn-bright')`\n"
   ]
  },
  {
   "cell_type": "code",
   "execution_count": null,
   "metadata": {},
   "outputs": [],
   "source": [
    "# Set styles for plots\n",
    "plt.style.use('seaborn-v0_8')"
   ]
  },
  {
   "cell_type": "markdown",
   "metadata": {},
   "source": [
    "I have set the **seaborn-bright** style for plots. So, the plot uses the **seaborn-bright** Matplotlib style for plots.\n",
    "\n"
   ]
  },
  {
   "cell_type": "markdown",
   "metadata": {},
   "source": [
    "# Adding objects to our plots"
   ]
  },
  {
   "cell_type": "markdown",
   "metadata": {},
   "source": [
    "## Grid"
   ]
  },
  {
   "cell_type": "code",
   "execution_count": null,
   "metadata": {},
   "outputs": [],
   "source": [
    "x6 = np.arange(1, 5)\n",
    "\n",
    "plt.plot(x6, x6*1.5, x6, x6*3.0, x6, x6/3.0)\n",
    "\n",
    "plt.grid(True)\n",
    "\n",
    "plt.show()"
   ]
  },
  {
   "cell_type": "markdown",
   "metadata": {},
   "source": [
    "## Axes\n",
    "\n",
    "\n",
    "Matplotlib automatically sets the limits of the plot to precisely contain the plotted datasets. Sometimes, we want to set the\n",
    "axes limits ourself. We can set the axes limits with the **axis()** function as follows:"
   ]
  },
  {
   "cell_type": "code",
   "execution_count": null,
   "metadata": {},
   "outputs": [],
   "source": [
    "x7 = np.arange(1, 5)\n",
    "\n",
    "plt.plot(x7, x7*1.5, x7, x7*3.0, x7, x7/3.0)\n",
    "\n",
    "plt.axis([0, 5, -1, 13])\n",
    "\n",
    "plt.show()"
   ]
  },
  {
   "cell_type": "markdown",
   "metadata": {},
   "source": [
    "If we execute **axis()** without parameters, it returns the actual axis limits.\n",
    "\n",
    "We can set parameters to **axis()** by a list of four values: [xmin, xmax, ymin, ymax] allows the minimum and maximum limits for X and Y axis respectively.\n",
    " "
   ]
  },
  {
   "cell_type": "markdown",
   "metadata": {},
   "source": [
    "We can control the limits for each axis separately using the `xlim()` and `ylim()` functions. This can be done as follows:-"
   ]
  },
  {
   "cell_type": "code",
   "execution_count": null,
   "metadata": {
    "scrolled": true
   },
   "outputs": [],
   "source": [
    "x8 = np.arange(1, 5)\n",
    "\n",
    "plt.plot(x8, x8*1.5, x8, x8*3.0, x8, x8/3.0)\n",
    "\n",
    "plt.xlim([1.0, 4.0])\n",
    "\n",
    "plt.ylim([0.0, 12.0]);"
   ]
  },
  {
   "cell_type": "markdown",
   "metadata": {},
   "source": [
    "## X and Y ticks\n",
    "\n",
    "\n",
    "Vertical and horizontal ticks are those little segments on the axes, coupled with axes labels, used to give a reference system\n",
    "on the graph.\n",
    "\n",
    "Matplotlib provides two basic functions to manage them - **xticks()** and **yticks()**.\n",
    "\n",
    "Executing with no arguments, the tick function returns the current ticks' locations and the labels corresponding to each of them.\n",
    "\n",
    "We can pass arguments(in the form of lists) to the ticks functions. The arguments are:\n",
    "\n",
    "1. Locations of the ticks\n",
    "2. Labels to draw at these locations.\n",
    "\n",
    "We can demonstrate the usage of the ticks functions in the code snippet below:"
   ]
  },
  {
   "cell_type": "code",
   "execution_count": null,
   "metadata": {},
   "outputs": [],
   "source": [
    "u = [5, 4, 9, 7, 8, 9, 6, 5, 7, 8]\n",
    "\n",
    "plt.plot(u)\n",
    "\n",
    "plt.xticks([2, 4, 6, 8, 10])\n",
    "plt.yticks([2, 4, 6, 8, 10])\n",
    "\n",
    "plt.show()"
   ]
  },
  {
   "cell_type": "markdown",
   "metadata": {},
   "source": [
    "## Labels\n",
    "\n",
    "\n",
    "Another important piece of information to add to a plot is the axes labels, since they specify the type of data we are plotting."
   ]
  },
  {
   "cell_type": "code",
   "execution_count": null,
   "metadata": {},
   "outputs": [],
   "source": [
    "plt.barh(range(len(data2)), data2)\n",
    "\n",
    "plt.xlabel('Average age')\n",
    "plt.ylabel('Class')\n",
    "\n",
    "plt.yticks(range(3), [1,2,3])\n",
    "\n",
    "plt.show() "
   ]
  },
  {
   "cell_type": "markdown",
   "metadata": {},
   "source": [
    "## Adding a title\n",
    "\n",
    "\n",
    "The title of a plot describes about the plot. Matplotlib provides a simple function **title()** to add a title to an image.  "
   ]
  },
  {
   "cell_type": "code",
   "execution_count": null,
   "metadata": {},
   "outputs": [],
   "source": [
    "plt.barh(range(len(data2)), data2)\n",
    "\n",
    "plt.xlabel('Average age')\n",
    "plt.ylabel('Class')\n",
    "plt.yticks(range(3), [1,2,3])\n",
    "\n",
    "plt.title('Average passenger age by class')\n",
    "\n",
    "plt.show() "
   ]
  },
  {
   "cell_type": "markdown",
   "metadata": {},
   "source": [
    "## Adding a legend\n",
    "\n",
    "Legends can be added in two ways. One method is to use the **legend** method of the axis object and \n",
    "pass a list/tuple of legend texts as follows:-"
   ]
  },
  {
   "cell_type": "code",
   "execution_count": null,
   "metadata": {},
   "outputs": [],
   "source": [
    "x9 = np.arange(1, 5)\n",
    "\n",
    "fig, ax = plt.subplots()\n",
    "\n",
    "ax.plot(x9, x9*1.5)\n",
    "ax.plot(x9, x9*3.0)\n",
    "ax.plot(x9, x9/3.0)\n",
    "\n",
    "ax.legend(['Normal','Fast','Slow']);"
   ]
  },
  {
   "cell_type": "markdown",
   "metadata": {},
   "source": [
    "The above method is prone to errors and unflexible if lines are added to or removed from the plot."
   ]
  },
  {
   "cell_type": "markdown",
   "metadata": {},
   "source": [
    "A better method is to use the **label** keyword argument when plots are added to the figure. Then we use the **legend** method without arguments to add the legend to the figure. \n",
    "\n",
    "The advantage of this method is that if lines are added or removed from the figure, the legend is automatically updated accordingly."
   ]
  },
  {
   "cell_type": "code",
   "execution_count": null,
   "metadata": {},
   "outputs": [],
   "source": [
    "x10 = np.arange(1, 5)\n",
    "\n",
    "fig, ax = plt.subplots()\n",
    "\n",
    "ax.plot(x10, x10*1.5, label='Normal')\n",
    "ax.plot(x10, x10*3.0, label='Fast')\n",
    "ax.plot(x10, x10/3.0, label='Slow')\n",
    "\n",
    "ax.legend(loc=2);"
   ]
  },
  {
   "cell_type": "markdown",
   "metadata": {},
   "source": [
    "The **legend** function takes an optional keyword argument **loc**. It specifies the location of the legend to be drawn. \n",
    "The **loc** takes numerical codes for the various places the legend can be drawn. The most common **loc** values are as follows:-"
   ]
  },
  {
   "cell_type": "markdown",
   "metadata": {},
   "source": [
    "ax.legend(loc=0)  # let Matplotlib decide the optimal location\n",
    "\n",
    "ax.legend(loc=1)  # upper right corner\n",
    "\n",
    "ax.legend(loc=2)  # upper left corner\n",
    "\n",
    "ax.legend(loc=3)  # lower left corner\n",
    "\n",
    "ax.legend(loc=4)  # lower right corner\n",
    "\n",
    "ax.legend(loc=5)  # right\n",
    "\n",
    "ax.legend(loc=6)  # center left\n",
    "\n",
    "ax.legend(loc=7)  # center right\n",
    "\n",
    "ax.legend(loc=8)  # lower center\n",
    "\n",
    "ax.legend(loc=9)  # upper center\n",
    "\n",
    "ax.legend(loc=10) # center"
   ]
  },
  {
   "cell_type": "markdown",
   "metadata": {},
   "source": [
    "## Colours\n",
    "\n",
    "We can draw different lines or curves in a plot with different colours. In the code below, we specify colour as the last argument to draw red, blue and green lines."
   ]
  },
  {
   "cell_type": "code",
   "execution_count": null,
   "metadata": {},
   "outputs": [],
   "source": [
    "x11 = np.arange(1, 5)\n",
    "\n",
    "plt.plot(x11, 'r')\n",
    "plt.plot(x11+1, '#FF00FF')\n",
    "plt.plot(x11+2, 'b')\n",
    "\n",
    "plt.show()"
   ]
  },
  {
   "cell_type": "markdown",
   "metadata": {},
   "source": [
    "The colour names and colour abbreviations are given in the following table:-\n",
    "\n",
    "\n",
    "**Colour abbreviation**      **Colour name**\n",
    "\n",
    "b                               blue\n",
    "\n",
    "c                               cyan\n",
    "\n",
    "g                               green\n",
    "\n",
    "k                               black\n",
    "\n",
    "m                               magenta\n",
    "\n",
    "r                               red\n",
    "\n",
    "w                               white\n",
    "\n",
    "y                               yellow"
   ]
  },
  {
   "cell_type": "markdown",
   "metadata": {},
   "source": [
    "There are several ways to specify colours, other than by colour abbreviations:\n",
    "    \n",
    "•\tThe full colour name, such as yellow\n",
    "\n",
    "•\tHexadecimal string such as ##FF00FF\n"
   ]
  },
  {
   "cell_type": "markdown",
   "metadata": {},
   "source": [
    "## Line styles\n",
    "\n",
    "\n",
    "Matplotlib provides us different line style options to draw curves or plots. In the code below, we use different line styles to draw different plots."
   ]
  },
  {
   "cell_type": "code",
   "execution_count": null,
   "metadata": {},
   "outputs": [],
   "source": [
    "x12 = np.arange(1, 5)\n",
    "\n",
    "plt.plot(x12, '--', x12+1, '-.', x12+2, ':')\n",
    "\n",
    "plt.show()"
   ]
  },
  {
   "cell_type": "markdown",
   "metadata": {},
   "source": [
    "The above code snippet generates a blue dashed line, a green dash-dotted line and a red dotted line."
   ]
  },
  {
   "cell_type": "markdown",
   "metadata": {},
   "source": [
    "All the available line styles are in the following table:\n",
    "\n",
    "\n",
    "**Style abbreviation**  **Style**\n",
    "\n",
    "\\-                   solid line\n",
    "   \n",
    "--                   dashed line\n",
    "   \n",
    "-.                   dash-dot line\n",
    "   \n",
    ":                    dotted line"
   ]
  }
 ],
 "metadata": {
  "kernelspec": {
   "display_name": "Python 3",
   "language": "python",
   "name": "python3"
  },
  "language_info": {
   "codemirror_mode": {
    "name": "ipython",
    "version": 3
   },
   "file_extension": ".py",
   "mimetype": "text/x-python",
   "name": "python",
   "nbconvert_exporter": "python",
   "pygments_lexer": "ipython3",
   "version": "3.10.11"
  }
 },
 "nbformat": 4,
 "nbformat_minor": 1
}
