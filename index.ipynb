{
 "cells": [
  {
   "cell_type": "markdown",
   "metadata": {},
   "source": [
    "# CEB: Computing for Economics and Business\n",
    "\n",
    "## Iscte - Instituto Universitário de Lisboa\n",
    "#### CECE: Computação para Economia e Ciências Empresariais (03875)\n",
    "\n",
    "Please send any comments or feedback to `fernando.batista@iscte-iul.pt`\n",
    "\n",
    "----"
   ]
  },
  {
   "cell_type": "markdown",
   "metadata": {},
   "source": [
    "### Contents\n",
    "- Part 1 - Fundamentals\n",
    "    - [Data types, data structures, functions and objects in python](./notebooks/01-intro-python.ipynb)\n",
    "    - [The basics of NumPy arrays](./notebooks/01-numpy.ipynb)\n",
    "    - [Basic plotting with matplotlib and seaborn](./notebooks/01-matplotlib.ipynb)\n",
    "- Part 2 - Data Analysis\n",
    "    - [Introducing Pandas and its main data structures](./notebooks/03-pandas.ipynb)\n",
    "        - [Introducing Pandas Objects](./PythonDataScienceHandbook/03.01-Introducing-Pandas-Objects.ipynb)\n",
    "        - [Data Indexing and Selection](./PythonDataScienceHandbook/03.02-Data-Indexing-and-Selection.ipynb)\n",
    "        - [Operating on Data in Pandas](./PythonDataScienceHandbook/03.03-Operations-in-Pandas.ipynb)\n",
    "        - [Handling Missing Data](./PythonDataScienceHandbook/03.04-Missing-Values.ipynb)\n",
    "    - Load, structure and save data\n",
    "        - [Pandas data selection, explore, load and save data (small dataset)](./notebooks/pandas-data-exploring-small.ipynb)\n",
    "- Part 3 - Data Analysis and Grouping\n",
    "    - [Hierarchical Indexing](./PythonDataScienceHandbook/03.05-Hierarchical-Indexing.ipynb)\n",
    "    - Combining Datasets\n",
    "        - [Concat and Append](./PythonDataScienceHandbook/03.06-Concat-And-Append.ipynb)\n",
    "        - [Merge and Join](./PythonDataScienceHandbook/03.07-Merge-and-Join.ipynb)\n",
    "    - Data aggregation and grouping\n",
    "        - [Data Aggregation and grouping](./PythonDataScienceHandbook/03.08-Aggregation-and-Grouping.ipynb)\n",
    "        - [Pivot tables](./PythonDataScienceHandbook/03.09-Pivot-Tables.ipynb)\n",
    "- Part 4 - Data handling and visualization\n",
    "    - [Vectorized String Operations](./PythonDataScienceHandbook/03.10-Working-With-Strings.ipynb)\n",
    "    - [Charts](./notebooks/charts.ipynb)\n",
    "    - [Working with Time Series](./PythonDataScienceHandbook/03.11-Working-with-Time-Series.ipynb)\n",
    "    - Data visualization\n",
    "        - [Python Data Science Handbook - Chapter 4](https://jakevdp.github.io/PythonDataScienceHandbook/index.html)\n",
    "        - [Visualization with Seaborn](https://jakevdp.github.io/PythonDataScienceHandbook/04.14-visualization-with-seaborn.html)\n",
    "- Practical examples\n",
    "    - [Practical example](./notebooks/03-practical-example.ipynb) - IMBD database\n",
    "    - [Practical example](./notebooks/pandas-reading-exploring.ipynb) - Happiness with Continent dataset\n",
    "- Statistical Analysis and Machine learning\n",
    "    - Statistical and predictive analysis\n",
    "    - Introduction to Machine Learning: Case study"
   ]
  },
  {
   "cell_type": "markdown",
   "metadata": {},
   "source": [
    "For additional information about these subjects, please read the book [Python Data Science Handbook: Essential Tools for Working with Data](https://jakevdp.github.io/PythonDataScienceHandbook/) by Jake VanderPlas."
   ]
  },
  {
   "cell_type": "markdown",
   "metadata": {},
   "source": [
    "### Evaluation and Exercises\n",
    "* Week 1 - [homework exercise](./notebooks/01-intro-python-hw.ipynb)\n",
    "* Week 2 - [Exercise 2 - Explore data](./notebooks/exercise2-explore-data.ipynb)\n",
    "* [Project Assignment](./Project/ceb-project.ipynb) (draft version)*"
   ]
  },
  {
   "cell_type": "markdown",
   "metadata": {},
   "source": [
    "### Warning\n",
    "\n",
    "The contents of this folder are periodically updated, which reset your changes and delet any file that you may have added. So, don't put your files here, put them in any other directory inside your home directory."
   ]
  },
  {
   "cell_type": "markdown",
   "metadata": {},
   "source": [
    "### Addicional resources\n",
    " - [Pandas Exercises, Practice, Solution](https://www.w3resource.com/python-exercises/pandas/index.php)"
   ]
  }
 ],
 "metadata": {
  "kernelspec": {
   "display_name": "Python 3",
   "language": "python",
   "name": "python3"
  },
  "language_info": {
   "codemirror_mode": {
    "name": "ipython",
    "version": 3
   },
   "file_extension": ".py",
   "mimetype": "text/x-python",
   "name": "python",
   "nbconvert_exporter": "python",
   "pygments_lexer": "ipython3",
   "version": "3.8.10"
  }
 },
 "nbformat": 4,
 "nbformat_minor": 4
}
